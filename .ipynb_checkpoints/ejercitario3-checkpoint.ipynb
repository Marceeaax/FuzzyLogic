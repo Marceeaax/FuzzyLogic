{
 "cells": [
  {
   "cell_type": "markdown",
   "metadata": {},
   "source": [
    "# __Ejercitario 3__: Relaciones Difusas\n",
    "\n",
    "Responde a las preguntas de abajo utilizando este mismo notebook. Recuerda de seguir las instrucciones de envío que están en la plataforma Educa."
   ]
  },
  {
   "cell_type": "markdown",
   "metadata": {},
   "source": [
    "---\n",
    "**Ejercicio 1.** En el texto de Bede (2013) lee la Definición 3.19 (p.38) de la composición $\\min\\!\\!\\to$ entre dos relaciones $R$ y $S$, denotado $R \\lhd S$, y su operación dual $R\\rhd S$. Demuestra que:\n",
    "\n",
    "1. $(R\\lhd S) = (S^{-1}\\rhd R^{-1})^{-1}$.\n",
    "2. $(R\\rhd S) = (S^{-1} \\lhd R^{-1})^{-1}$."
   ]
  },
  {
   "cell_type": "markdown",
   "metadata": {},
   "source": []
  },
  {
   "cell_type": "markdown",
   "metadata": {},
   "source": [
    "---\n",
    "**Ejercicio 2.** Escribe una subrutina que tome como entrada dos matrices representando relaciones difusas $R$ y $S$ y retorne (o imprima en pantalla) $R\\lhd S$. Escribe al menos dos ejemplos diferentes que muestren como funciona tu algoritmo. Puedes elegir tu lenguaje de programación favorito para este ejercicio."
   ]
  },
  {
   "cell_type": "markdown",
   "metadata": {},
   "source": []
  },
  {
   "cell_type": "markdown",
   "metadata": {},
   "source": [
    "---\n",
    "**Ejercicio 3.** Escribe una subrutina que tome como entrada dos matrices representando relaciones difusas $R$ y $S$ y retorne (o imprima en pantalla) $R\\rhd S$. Escribe al menos dos ejemplos diferentes que muestren como funciona tu algoritmo. Puedes elegir tu lenguaje de programación favorito para este ejercicio."
   ]
  },
  {
   "cell_type": "markdown",
   "metadata": {},
   "source": []
  },
  {
   "cell_type": "markdown",
   "metadata": {},
   "source": [
    "---\n",
    "**Ejercicio 4.** Sean $R:X\\times Y\\to [0,1]$, $P:Y\\times Z\\to [0,1]$ y $Q:X\\times Z\\to[0,1]$ relaciones difusas. Demuestra que $(P\\lhd Q^{-1})^{-1}\\circ P\\subseteq Q$."
   ]
  },
  {
   "cell_type": "markdown",
   "metadata": {},
   "source": []
  },
  {
   "cell_type": "markdown",
   "metadata": {},
   "source": [
    "---\n",
    "**Ejercicio 5.** Implementa el algoritmo de la $*$-clausura transitiva de la página 83 del libro de Syropoulos & Grammenos (2020). Modifica el algoritmo para que utilice la composición $\\min\\!\\!\\to$. Tu algoritmo debe de tomar como entrada una matriz que represente una relación difusa y retornar otra matriz que represente la $*$-clausura transitiva. Escribe al menos dos ejemplos diferentes que muestren como funciona tu algoritmo. Puedes elegir tu lenguaje de programación favorito para este ejercicio."
   ]
  },
  {
   "cell_type": "markdown",
   "metadata": {},
   "source": []
  },
  {
   "cell_type": "markdown",
   "metadata": {},
   "source": [
    "---\n",
    "**Ejercicio 6.** Implementa una subrutina que toma como entrada una matriz que represente una relación difusa y retorna 1 si la matriz es una relación de similaridad y retorna 0 si no es una relación de similaridad. Escribe al menos dos ejemplos diferentes que muestren como funciona tu algoritmo. Puedes elegir tu lenguaje de programación favorito para este ejercicio."
   ]
  },
  {
   "cell_type": "markdown",
   "metadata": {},
   "source": []
  },
  {
   "cell_type": "markdown",
   "metadata": {},
   "source": [
    "---\n",
    "**Ejercicio 7.** Implementa una subrutina que toma como entrada una matriz que represente una relación difusa y retorna 1 si la matriz es una relación de proximidad y retorna 0 si no es una relación de proximidad. Escribe al menos dos ejemplos diferentes que muestren como funciona tu algoritmo. Puedes elegir tu lenguaje de programación favorito para este ejercicio."
   ]
  },
  {
   "cell_type": "markdown",
   "metadata": {},
   "source": []
  },
  {
   "cell_type": "markdown",
   "metadata": {},
   "source": [
    "---\n",
    "**Ejercicio 8.** Construye un ejemplo concreto de una relación difusa $R:A\\times A\\to[0,1]$ infinita que sea reflexiva, simétrica pero no sea transitiva."
   ]
  },
  {
   "cell_type": "markdown",
   "metadata": {},
   "source": []
  },
  {
   "cell_type": "markdown",
   "metadata": {},
   "source": [
    "---\n",
    "**Ejercicio 9.** Construye un ejemplo concreto de una relación difusa $R:A\\times A\\to[0,1]$ infinita que sea simétrica, transitiva pero no sea reflexiva."
   ]
  },
  {
   "cell_type": "markdown",
   "metadata": {},
   "source": []
  },
  {
   "cell_type": "markdown",
   "metadata": {},
   "source": [
    "---\n",
    "**Ejercicio 10.** Construye un ejemplo concreto de una relación difusa $R:A\\times A\\to[0,1]$ infinita que sea reflexiva, transitiva pero no sea simétrica."
   ]
  },
  {
   "cell_type": "markdown",
   "metadata": {},
   "source": []
  }
 ],
 "metadata": {
  "kernelspec": {
   "display_name": "SageMath 9.0",
   "language": "sage",
   "name": "sagemath"
  },
  "language_info": {
   "codemirror_mode": {
    "name": "ipython",
    "version": 3
   },
   "file_extension": ".py",
   "mimetype": "text/x-python",
   "name": "python",
   "nbconvert_exporter": "python",
   "pygments_lexer": "ipython3",
   "version": "3.7.9"
  }
 },
 "nbformat": 4,
 "nbformat_minor": 4
}

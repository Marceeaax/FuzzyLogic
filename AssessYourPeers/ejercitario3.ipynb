{
 "cells": [
  {
   "cell_type": "markdown",
   "metadata": {},
   "source": [
    "# __Ejercitario 3__: Relaciones Difusas\n",
    "\n",
    "Responde a las preguntas de abajo utilizando este mismo notebook. Recuerda de seguir las instrucciones de envío que están en la plataforma Educa."
   ]
  },
  {
   "cell_type": "markdown",
   "metadata": {},
   "source": [
    "---\n",
    "**Ejercicio 1.** En el texto de Bede (2013) lee la Definición 3.19 (p.38) de la composición $\\min\\!\\!\\to$ entre dos relaciones $R$ y $S$, denotado $R \\lhd S$, y su operación dual $R\\rhd S$. Demuestra que:\n",
    "\n",
    "1. $(R\\lhd S) = (S^{-1}\\rhd R^{-1})^{-1}$.\n",
    "2. $(R\\rhd S) = (S^{-1} \\lhd R^{-1})^{-1}$."
   ]
  },
  {
   "cell_type": "markdown",
   "metadata": {},
   "source": [
    "1. Teniendo en cuenta que $R \\in \\mathcal{F}(X\\times Y)$ y $S \\in \\mathcal{F}(Y\\times Z)$\n",
    "\n",
    ">$(S^{-1}\\rhd R^{-1})^{-1}(x, z)=(S^{-1}\\rhd R^{-1})(z, x)=S^{-1}(z, y)\\rhd R^{-1}(y, x)=\\bigwedge_{y \\in Y} R(x, y) \\to S(y, z)=R\\lhd S(x, z)$\n",
    "\n",
    "Por lo tanto, queda demostrado.\n",
    "\n",
    "2. De vuelta, teniendo en cuenta que $R \\in \\mathcal{F}(X\\times Y)$ y $S \\in \\mathcal{F}(Y\\times Z)$\n",
    "\n",
    ">$(S^{-1}\\lhd R^{-1})^{-1}(x, z)=(S^{-1}\\lhd R^{-1})(z, x)=S^{-1}(z, y)\\lhd R^{-1}(y, x)=\\bigwedge_{y \\in Y} S(y, z)\\to R(x, y)=R\\rhd S(x, z)$\n",
    "\n",
    "Por lo tanto, queda demostrado."
   ]
  },
  {
   "cell_type": "markdown",
   "metadata": {},
   "source": [
    "---\n",
    "**Ejercicio 2.** Escribe una subrutina que tome como entrada dos matrices representando relaciones difusas $R$ y $S$ y retorne (o imprima en pantalla) $R\\lhd S$. Escribe al menos dos ejemplos diferentes que muestren como funciona tu algoritmo. Puedes elegir tu lenguaje de programación favorito para este ejercicio."
   ]
  },
  {
   "cell_type": "code",
   "execution_count": 145,
   "metadata": {},
   "outputs": [
    {
     "name": "stdout",
     "output_type": "stream",
     "text": [
      "R ⊲ S\n",
      "  1     1     1     1     1   \n",
      "  1   0.6     1   0.4     1   \n",
      "  1     1   0.4   0.4     1   \n",
      "  1     1     1   0.4     1   \n",
      "\n",
      "R2 ⊲ S2\n",
      "0.3     1     1     1   0.6   \n",
      "0.3     1   0.7     1     1   \n"
     ]
    }
   ],
   "source": [
    "def function(R,S):\n",
    "    for r_row in range(len(R)):\n",
    "        for s_column in range(len(S[0])):\n",
    "            greatest=0\n",
    "            row=0\n",
    "            for x in R[r_row]:\n",
    "                s_row=S[row]\n",
    "                if x<=s_row[s_column]:\n",
    "                    value=1\n",
    "                else:\n",
    "                    value=s_row[s_column]\n",
    "                if value>greatest:\n",
    "                    greatest=value\n",
    "                row+=1\n",
    "            if greatest==1:\n",
    "                print(\"  1\",end=\"   \")\n",
    "            else:\n",
    "                print(greatest, end=\"   \")\n",
    "        print()\n",
    "    \n",
    "R=[\n",
    "[0.2, 0.8, 0.9],\n",
    "[0.9, 0.4, 0.7],\n",
    "[0.5, 0.7, 0.4],\n",
    "[0.6, 0.9, 0.2]\n",
    "]\n",
    "\n",
    "S=[\n",
    "[0.9, 0.5, 0.3, 0.4, 0.8],\n",
    "[0.7, 0.1, 0.4, 0.2, 0.3],\n",
    "[0.5, 0.6, 0.2, 0.1, 0.9]\n",
    "]\n",
    "\n",
    "R2=[\n",
    "[0.7, 0.5, 0.4],\n",
    "[0.5, 0.8, 0.9]\n",
    "]\n",
    "\n",
    "S2=[\n",
    "[0.3, 0.8, 0.4, 0.5, 0.6],\n",
    "[0.1, 0.7, 0.7, 0.2, 0.1],\n",
    "[0.2, 0.3, 0.2, 0.4, 0.3]\n",
    "]\n",
    "\n",
    "\n",
    "print(\"R ⊲ S\")\n",
    "function(R,S)\n",
    "print()\n",
    "print(\"R2 ⊲ S2\")\n",
    "function(R2,S2)\n"
   ]
  },
  {
   "cell_type": "markdown",
   "metadata": {},
   "source": [
    "---\n",
    "**Ejercicio 3.** Escribe una subrutina que tome como entrada dos matrices representando relaciones difusas $R$ y $S$ y retorne (o imprima en pantalla) $R\\rhd S$. Escribe al menos dos ejemplos diferentes que muestren como funciona tu algoritmo. Puedes elegir tu lenguaje de programación favorito para este ejercicio."
   ]
  },
  {
   "cell_type": "code",
   "execution_count": 27,
   "metadata": {},
   "outputs": [
    {
     "name": "stdout",
     "output_type": "stream",
     "text": [
      "[[0.3 0.  0.2]\n",
      " [1.  1.  1. ]\n",
      " [0.3 0.  0.2]] \n",
      "\n",
      "[[0.5 0.2]\n",
      " [0.3 0.2]]\n"
     ]
    }
   ],
   "source": [
    "import numpy as np\n",
    "\n",
    "def godel_implication(x, y):\n",
    "    if (x <= y):\n",
    "        return 1\n",
    "    else:\n",
    "        return y\n",
    "\n",
    "def supercomposition(R, S):\n",
    "    result = np.ones( (len(S), len(R[0])) )\n",
    "    for i in range(len(S)):\n",
    "        for j in range(len(R[0])):\n",
    "            for k in range(len(R)):\n",
    "                result[i][j] = np.minimum(result[i][j],  godel_implication(S[i][k], R[k][j]))\n",
    "    return result\n",
    "\n",
    "R = np.array([[0.3, 0.7, 0.2],\n",
    "            [1, 0, 0.9]])\n",
    "\n",
    "S = np.array([[0.8, 0.3],\n",
    "            [0.1, 0],\n",
    "            [0.5, 0.6]])\n",
    "\n",
    "print(supercomposition(R, S), '\\n')\n",
    "\n",
    "R = np.array([[0.5, 0.2],\n",
    "             [0.3, 1]])\n",
    "\n",
    "S = np.array([[0.8, 0.1],\n",
    "             [0.3, 0.4]])\n",
    "\n",
    "print(supercomposition(R, S))"
   ]
  },
  {
   "cell_type": "markdown",
   "metadata": {},
   "source": [
    "---\n",
    "**Ejercicio 4.** Sean $R:X\\times Y\\to [0,1]$, $P:Y\\times Z\\to [0,1]$ y $Q:X\\times Z\\to[0,1]$ relaciones difusas. Demuestra que $(P\\lhd Q^{-1})^{-1}\\circ P\\subseteq Q$."
   ]
  },
  {
   "cell_type": "markdown",
   "metadata": {},
   "source": [
    "Usando (v) de la Proposición 3.18 del libro de Bede tenemos:\n",
    "\n",
    "$(P\\lhd Q^{-1})^{-1}(y, z)\\circ P=(P\\lhd Q^{-1})(z, y)\\circ P=\\bigvee_{y \\in Y}(P\\lhd Q^{-1})(z, y)\\wedge P(y, z)=\\bigvee_{y \\in Y} \\bigwedge_{t \\in Z}(P(y, t)\\to Q(t, x)) \\wedge P(y, z) \\leq \\bigvee_{y \\in Y} (P(y, z)\\to Q(z, x)) \\wedge P(y, z) \\leq \\bigvee_{y \\in Y} Q(x, z)= Q(x, z)$"
   ]
  },
  {
   "cell_type": "markdown",
   "metadata": {},
   "source": [
    "---\n",
    "**Ejercicio 5.** Implementa el algoritmo de la $*$-clausura transitiva de la página 83 del libro de Syropoulos & Grammenos (2020). Modifica el algoritmo para que utilice la composición $\\min\\!\\!\\to$. Tu algoritmo debe de tomar como entrada una matriz que represente una relación difusa y retornar otra matriz que represente la $*$-clausura transitiva. Escribe al menos dos ejemplos diferentes que muestren como funciona tu algoritmo. Puedes elegir tu lenguaje de programación favorito para este ejercicio."
   ]
  },
  {
   "cell_type": "code",
   "execution_count": 28,
   "metadata": {},
   "outputs": [
    {
     "name": "stdout",
     "output_type": "stream",
     "text": [
      "[[0.5 0.6 0.7]\n",
      " [0.3 1.  0.5]\n",
      " [0.3 0.6 1. ]] \n",
      "\n",
      "[[0.8 0.9 1. ]\n",
      " [0.4 0.7 0.7]\n",
      " [0.4 0.9 0.7]] \n",
      "\n"
     ]
    }
   ],
   "source": [
    "import numpy as np\n",
    "\n",
    "def godel_tnorm(a, b):\n",
    "    return np.minimum(a, b)\n",
    "\n",
    "def floyd_transitive_closure(R):\n",
    "    Aux = np.copy(R)\n",
    "    for i in range(len(Aux)):\n",
    "        for j in range(len(Aux)):\n",
    "            for k in range(len(Aux)):\n",
    "                Aux[j][k] = np.maximum(Aux[j][k],  godel_tnorm(Aux[j][i], Aux[i][k]))\n",
    "    return Aux\n",
    "\n",
    "R = np.array([[0.5, 0.2, 0.7],\n",
    "             [0.3, 1, 0.5],\n",
    "             [0.2, 0.6, 1]])\n",
    "\n",
    "result = floyd_transitive_closure(R)\n",
    "\n",
    "print(result, '\\n')\n",
    "\n",
    "S = np.array([[0.8, 0.1, 1],\n",
    "             [0.3, 0.4, 0.7],\n",
    "             [0.4, 0.9, 0.1]])\n",
    "\n",
    "result = floyd_transitive_closure(S)\n",
    "\n",
    "print(result, '\\n')"
   ]
  },
  {
   "cell_type": "markdown",
   "metadata": {},
   "source": [
    "---\n",
    "**Ejercicio 6.** Implementa una subrutina que toma como entrada una matriz que represente una relación difusa y retorna 1 si la matriz es una relación de similaridad y retorna 0 si no es una relación de similaridad. Escribe al menos dos ejemplos diferentes que muestren como funciona tu algoritmo. Puedes elegir tu lenguaje de programación favorito para este ejercicio."
   ]
  },
  {
   "cell_type": "code",
   "execution_count": 33,
   "metadata": {},
   "outputs": [
    {
     "name": "stdout",
     "output_type": "stream",
     "text": [
      "La función retorna 1 si la matriz es una relación de similaridad, 0 si no.\n",
      "\n",
      "Matriz A ...\n",
      " Es reflexiva\n",
      " Es simétrica\n",
      " No es transitiva\n",
      "A:  0\n",
      "\n",
      "Matriz B ...\n",
      " Es reflexiva\n",
      " Es simétrica\n",
      " Es transitiva\n",
      "B:  1\n"
     ]
    }
   ],
   "source": [
    "#A fuzzy binary relation in A that is \n",
    "    #reflexive, \n",
    "    #symmetric, and\n",
    "    #transitive \n",
    "#is a similarity relation in A.\n",
    "A=[\n",
    "    [  1, 0.2, 0.4, 0.3, 0.1],\n",
    "    [0.2,   1, 0.6, 0.7, 0.8],\n",
    "    [0.4, 0.6,   1, 0.5, 0.2],\n",
    "    [0.3, 0.7, 0.5,   1, 0.7],\n",
    "    [0.1, 0.8, 0.2, 0.7,   1]\n",
    "]\n",
    "\n",
    "B=[\n",
    "    [  1, 0.2,   1, 0.6, 0.2, 0.6],\n",
    "    [0.2,   1, 0.2, 0.2, 0.8, 0.2],\n",
    "    [  1, 0.2,   1, 0.6, 0.2, 0.6],\n",
    "    [0.6, 0.2, 0.6,   1, 0.2, 0.8],\n",
    "    [0.2, 0.8, 0.2, 0.2,   1, 0.2],\n",
    "    [0.6, 0.2, 0.6, 0.8, 0.2,   1]\n",
    "]\n",
    "\n",
    "def function(A):\n",
    "    #¿Es reflexiva?\n",
    "    for row in range(len(A)):\n",
    "        if A[row][row]!=1:\n",
    "            print(\" No es reflexiva\")\n",
    "            return 0\n",
    "    print(\" Es reflexiva\")\n",
    "\n",
    "    #¿Es simétrica?\n",
    "    row_counter=0\n",
    "    for row in A:\n",
    "        #print(\"row_counter es \",row_counter)\n",
    "        position=row_counter\n",
    "        for column in range(row_counter,len(A)):\n",
    "            #print(row[position],A[position][row_counter])\n",
    "            if row[position]!=A[position][row_counter]:\n",
    "                print(\" No es simétrica\")\n",
    "                return 0\n",
    "            position+=1\n",
    "        row_counter+=1\n",
    "    print(\" Es simétrica\")\n",
    "    \n",
    "    #¿Es transitiva?\n",
    "    for a in range(len(A)):\n",
    "        for c in range(len(A)):\n",
    "            for b in range(len(A)):\n",
    "                if A[a][b]<A[b][c]:\n",
    "                    min_value=A[a][b]\n",
    "                else:\n",
    "                    min_value=A[b][c]\n",
    "                if A[a][c]<min_value:\n",
    "                    #print(\"a,b,c\", (a,b,c))\n",
    "                    #print(\" No es transitiva porque \",A[a][c], \"es menor a\", min_value)\n",
    "                    print(\" No es transitiva\")\n",
    "                    return 0\n",
    "    print(\" Es transitiva\")\n",
    "    return 1\n",
    "            \n",
    "            \n",
    "print(\"La función retorna 1 si la matriz es una relación de similaridad, 0 si no.\")\n",
    "print()\n",
    "print(\"Matriz A ...\")\n",
    "print(\"A: \", function(A))\n",
    "print()\n",
    "print(\"Matriz B ...\")\n",
    "\n",
    "print(\"B: \", function(B))"
   ]
  },
  {
   "cell_type": "markdown",
   "metadata": {},
   "source": [
    "---\n",
    "**Ejercicio 7.** Implementa una subrutina que toma como entrada una matriz que represente una relación difusa y retorna 1 si la matriz es una relación de proximidad y retorna 0 si no es una relación de proximidad. Escribe al menos dos ejemplos diferentes que muestren como funciona tu algoritmo. Puedes elegir tu lenguaje de programación favorito para este ejercicio."
   ]
  },
  {
   "cell_type": "code",
   "execution_count": 34,
   "metadata": {},
   "outputs": [
    {
     "name": "stdout",
     "output_type": "stream",
     "text": [
      "1\n",
      "1\n"
     ]
    }
   ],
   "source": [
    "#¿Es reflexiva?\n",
    "def reflexiva(A):\n",
    "    for row in range(len(A)):\n",
    "        if A[row][row]!=1:\n",
    "            return 0\n",
    "    return 1\n",
    "\n",
    "#¿Es simétrica?\n",
    "def simetrica(A):\n",
    "    row_counter=0\n",
    "    for row in A:\n",
    "        #print(\"row_counter es \",row_counter)\n",
    "        position=row_counter\n",
    "        for column in range(row_counter,len(A)):\n",
    "            #print(row[position],A[position][row_counter])\n",
    "            if row[position]!=A[position][row_counter]:\n",
    "                return 0\n",
    "            position+=1\n",
    "        row_counter+=1\n",
    "    return 1\n",
    "\n",
    "def proximidad(A):\n",
    "    if((reflexiva(A) == 1) & (simetrica(A) == 1)):\n",
    "        return 1\n",
    "    return 0\n",
    "\n",
    "A=[\n",
    "    [  1, 0.2, 0.4, 0.3, 0.1],\n",
    "    [0.2,   1, 0.6, 0.7, 0.8],\n",
    "    [0.4, 0.6,   1, 0.5, 0.2],\n",
    "    [0.3, 0.7, 0.5,   1, 0.7],\n",
    "    [0.1, 0.8, 0.2, 0.7,   1]\n",
    "]\n",
    "\n",
    "print(proximidad(A))\n",
    "\n",
    "B=[\n",
    "    [  1, 0.2,   1, 0.6, 0.2, 0.6],\n",
    "    [0.2,   1, 0.2, 0.2, 0.8, 0.2],\n",
    "    [  1, 0.2,   1, 0.6, 0.2, 0.6],\n",
    "    [0.6, 0.2, 0.6,   1, 0.2, 0.8],\n",
    "    [0.2, 0.8, 0.2, 0.2,   1, 0.2],\n",
    "    [0.6, 0.2, 0.6, 0.8, 0.2,   1]\n",
    "]\n",
    "\n",
    "print(proximidad(B))"
   ]
  },
  {
   "cell_type": "markdown",
   "metadata": {},
   "source": [
    "---\n",
    "**Ejercicio 8.** Construye un ejemplo concreto de una relación difusa $R:A\\times A\\to[0,1]$ infinita que sea reflexiva, simétrica pero no sea transitiva."
   ]
  },
  {
   "cell_type": "markdown",
   "metadata": {},
   "source": [
    "$\\frac{a_{11}}{x_1,y_1}+\\frac{\\displaystyle a_{12}}{\\displaystyle x_1,y_2}+...+\\frac{\\displaystyle a_{1n}}{\\displaystyle x_1,y_n}+\\frac{\\displaystyle a_{21}}{\\displaystyle x_2,y_1}+\\frac{\\displaystyle a_{22}}{\\displaystyle x_2,y_2}+...+\\frac{\\displaystyle a_{2n}}{\\displaystyle x_2,y_n}+...+\\frac{\\displaystyle a_{n1}}{\\displaystyle x_n,y_1}+\\frac{\\displaystyle a_{n2}}{\\displaystyle x_n,y_2}+...+\\frac{\\displaystyle a_{nn}}{\\displaystyle x_n,y_n}$\n",
    "\n",
    "$donde\\;para\\;todo\\;x_k,y_k\\;se\\;tiene\\;a_{kk}=1\\;$\n",
    "\n",
    "$donde\\;para\\;todo\\;x_i,y_j\\;e\\;i<j\\;existe\\;un\\;par\\;x_j,y_i\\;tal\\;que\\;a_{ij}=a_{ji}=\\frac1{i\\times j}$\n",
    "\n",
    "$i,j,k\\in A$\n",
    "\n",
    "La matriz se vería de esta manera:\n",
    "$\\begin{array}{l}\\begin{vmatrix}1&\\frac12&\\frac13&\\frac14&\\frac15&\\frac16\\;...\\\\\\frac12&1&\\frac16&\\frac18&\\frac1{10}&\\frac1{12}\\;\\;\\;\\;\\;\\\\\\frac13&\\frac16&1&\\frac1{12}&\\frac1{15}&\\frac1{18}\\;\\;\\;\\;\\;\\\\\\frac14&\\frac18&\\frac1{12}&1&\\frac1{20}&\\frac1{24}\\;\\;\\;\\;\\;\\\\\\frac15&\\frac1{10}&\\frac1{15}&\\frac1{20}&1&\\frac1{30}\\;\\;\\;\\;\\;\\\\\\begin{array}{l}\\frac16\\\\...\\end{array}&\\begin{array}{l}\\frac1{12}\\\\\\end{array}&\\begin{array}{l}\\frac1{18}\\\\\\end{array}&\\begin{array}{l}\\frac1{24}\\\\\\end{array}&\\begin{array}{l}\\frac1{30}\\\\\\end{array}&\\begin{array}{l}1\\;\\\\\\;\\;\\;\\;...\\end{array}\\end{vmatrix}\\\\\\end{array}$\n",
    "\n",
    "$Vemos\\;claramente\\;que\\;la\\;matriz\\;de\\;esta\\;relación\\;es\\;simétrica\\;y\\;reflexiva.$\n",
    "\n",
    "$Vemos\\;que\\;para\\;a=2\\;,b=1\\;y\\;c=3\\;tenemos:$\n",
    "\n",
    ">$min\\left\\{R(a,b),R(b,c)\\right\\}=min\\left\\{R(2,1),R(1,3)\\right\\}=min\\left\\{\\frac12,\\frac13\\right\\}=\\frac13$\n",
    ">\n",
    ">$R(a,c)=R(2,3)=\\frac16$\n",
    "\n",
    "$Como\\;R(a,c)<min\\left\\{R(a,b),R(b,c)\\right\\}\\;se\\;observa\\;que\\;no\\;se\\;cumple\\;la\\;propiedad\\;transtiva.$\n",
    "\n",
    "$Por\\;ende\\;esta\\;relación\\;difusa\\;no\\;es\\;transitva.$"
   ]
  },
  {
   "cell_type": "markdown",
   "metadata": {},
   "source": [
    "---\n",
    "**Ejercicio 9.** Construye un ejemplo concreto de una relación difusa $R:A\\times A\\to[0,1]$ infinita que sea simétrica, transitiva pero no sea reflexiva."
   ]
  },
  {
   "cell_type": "markdown",
   "metadata": {},
   "source": [
    "Definamos una matriz $A\\times A$ donde $A$ es un conjunto infinito. Los elementos de la matriz, a partir del $a_{33}$ se van repitiendo de la siguiente forma hasta el infinito:\n",
    "\n",
    ">$\\begin{pmatrix}\n",
    "    0.9 & 0.2 & 0.1 & 0.9 & \\dots\\\\\n",
    "    0.2 & 0.8 & 0.1 & 0.2\\\\\n",
    "    0.1 & 0.1 & 0.7 & 0.1\\\\\n",
    "    0.9 & 0.2 & 0.1 & 0.9\\\\\n",
    "    \\vdots & & & & \\ddots\n",
    "    \\end{pmatrix}\n",
    "$\n",
    "\n",
    "Podemos ver facilmente que la relación es simétrica ya que para todo $a, b \\in A$ se cumple que $R(a, b)=R(b, a)$. Por ejemplo, $R(2, 1)=R(1, 2)=0.2$. Dicho de otra forma, podemos ver que los elementos arriba y abajo de la diagonal son todos los mismos.\n",
    "\n",
    "Si hacemos la operación $R \\circ R$ (hasta el elemento $a_{33}$ debido a que es imposible hacer esta operación en una matriz infinita) nos resultará la misma matriz $R$, por lo que se cumple la propiedad de transitividad: se cumple que $R \\circ R\t\\subseteq R$ ya que un conjunto es subconjunto de si mismo.\n",
    "\n",
    "Es facil ver también que la relación no es reflexiva. Ningun elemento de la diagonal principal es 1, cuando todos deberian de serlo. Por lo que se viola la propiedad reflexiva: $R(a, a)=1$ para todo $a \\in A$."
   ]
  },
  {
   "cell_type": "markdown",
   "metadata": {},
   "source": [
    "---\n",
    "**Ejercicio 10.** Construye un ejemplo concreto de una relación difusa $R:A\\times A\\to[0,1]$ infinita que sea reflexiva, transitiva pero no sea simétrica."
   ]
  },
  {
   "cell_type": "markdown",
   "metadata": {},
   "source": [
    "Definamos una matriz $A\\times A$ donde $A$ es un conjunto infinito. Los elementos de la matriz, a partir del $a_{33}$ se van repitiendo de la siguiente forma hasta el infinito:\n",
    "\n",
    "$R:AxA=$\n",
    "$\\begin{pmatrix}\n",
    "    1 & 0.2 & 0.3 & 1 & 0.2 & \\dots\\\\\n",
    "    0.2 & 1 & 0.3 & 0.2 & 0.1\\\\\n",
    "    0.2 & 0.2 & 1 & 0.2 & 0.2\\\\\n",
    "    0.1 & 0.2 & 0.3 & 1 &0.2\\\\\n",
    "    0.2 & 1 & 0.3 & 0.2 &1\\\\\n",
    "    \\vdots & & & & & \\ddots\n",
    "    \\end{pmatrix}\n",
    "$\n",
    "\n",
    "Se ve claramente que la relación es reflexiva, ya que la diagonal principal está compuesta por unos.\n",
    "\n",
    "También se observa que $a_{13}\\neq a_{31};\\;\\;0.3\\neq0.2$, por lo tanto la relación no es simetrica.\n",
    "\n",
    "Si hacemos la operación $R \\circ R$ (hasta el elemento $a_{55}$ debido a que es imposible hacer esta operación en una matriz infinita) se cumple la propiedad de transitividad: $R \\circ R\t\\subseteq R$, por lo tanto la relación es transitiva.\n"
   ]
  }
 ],
 "metadata": {
  "kernelspec": {
   "display_name": "Python 3",
   "language": "python",
   "name": "python3"
  },
  "language_info": {
   "codemirror_mode": {
    "name": "ipython",
    "version": 3
   },
   "file_extension": ".py",
   "mimetype": "text/x-python",
   "name": "python",
   "nbconvert_exporter": "python",
   "pygments_lexer": "ipython3",
   "version": "3.8.8"
  }
 },
 "nbformat": 4,
 "nbformat_minor": 4
}

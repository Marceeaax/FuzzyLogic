{
 "cells": [
  {
   "cell_type": "markdown",
   "metadata": {},
   "source": [
    "# <div align=\"center\">Matemática Aplicada</div>\n",
    "## <div align=\"center\">Cuestionario del 1er. Examen Parcial</div>\n",
    "## <div align=\"center\">27 de Mayo de 2021, Periodo II - 2020</div>"
   ]
  },
  {
   "cell_type": "markdown",
   "metadata": {},
   "source": [
    "**<span style=\"color:red\">Observación.<span>** Todo el código de este notebook fue hecho con SageMath 9.2."
   ]
  },
  {
   "cell_type": "markdown",
   "metadata": {},
   "source": [
    "---\n",
    "### Ejercicio 1.1\n",
    "\n"
   ]
  },
  {
   "cell_type": "markdown",
   "metadata": {},
   "source": [
    "Sean $R_1$ y $R_2$ relaciones en $A\\times B$ y $B\\times C$, respectivamente, y que están definidas como matrices\n",
    "\n",
    "$R_1=\\left(\\begin{array}{rrr}\n",
    "0.4 & 0.3 & 0.4 \\\\\n",
    "0.8 & 0.9 & 0.6 \\\\\n",
    "0.8 & 0.2 & 0.8 \\\\\n",
    "0.4 & 0.4 & 0.8\n",
    "\\end{array}\\right)$\n",
    "\n",
    "y\n",
    "\n",
    "$R_2=\\left(\\begin{array}{rrrr}\n",
    "0.7 & 0.5 & 0.2 & 0.4 \\\\\n",
    "0.8 & 0.6 & 0.7 & 0.0 \\\\\n",
    "0.8 & 0.6 & 0.3 & 0.3\n",
    "\\end{array}\\right),$\n",
    "\n",
    "donde $A=\\{a_1,a_2,a_3,a_4\\}$, $B=\\{b_1,b_2,b_3\\}$ y $C=\\{c_1,c_2,c_3, c_4\\}$.\n",
    "\n",
    "1. Calcular la composición min-max $R_1\\bullet R_2$ y escribir en forma matricial.\n",
    "2. Calcular la composición max-min $R_1\\circ R_2$ y escribir en forma matricial.\n",
    "3. Escribir $R_1\\bullet R_2$ y $R_1\\circ R_2$ utilizando la notación de Zadeh para conjuntos difusos.\n",
    "4. Escribir en notación de Zadeh la proyección de $R_1\\bullet R_2$ en $A$.\n",
    "5. Escribir en notación de Zadeh la proyección de $R_1\\circ R_2$ en $C$."
   ]
  },
  {
   "cell_type": "markdown",
   "metadata": {},
   "source": [
    "#### Rúbrica del Ejercicio 1.1\n",
    "\n",
    "|Criterio|0 Puntos|1 Punto|2 Puntos|\n",
    "|---|---|---|---|\n",
    "|Composición| No presenta ninguna matriz o presenta matrices incorrectas|La matriz de una de las composiciones es correcta| Las matrices de ambas composiciones son correctas|\n",
    "|Notación de las relaciones|No presenta las relaciones en notación de Zadeh|Una relación está escrita en notación de Zadeh de forma correcta|Ambas relaciones están escritas en notación de Zadeh de forma correcta|\n",
    "|Proyecciones|No presenta ninguna proyección|La proyección de una relación es correcta y está bien escrita con notación de Zadeh|La proyección de ambas relaciones es correcta y está bien escrita con notación de Zadeh|\n",
    "\n",
    "**Total** 6 Puntos"
   ]
  },
  {
   "cell_type": "markdown",
   "metadata": {},
   "source": [
    "#### Respuesta del Ejercicio 1.1\n",
    "\n"
   ]
  },
  {
   "cell_type": "markdown",
   "metadata": {},
   "source": [
    "Utilizamos las dos subrutinas de abajo para el cálculo de la composición. Estas subrutinas también serán utilizadas en los otros ejercicios."
   ]
  },
  {
   "cell_type": "code",
   "execution_count": 3,
   "metadata": {},
   "outputs": [],
   "source": [
    "#R1 y R2 son matrices de Sage\n",
    "def maxmin_comp(R1,R2):\n",
    "    if R1.ncols() != R2.nrows():\n",
    "        print(\"matrices de tamaño diferentes\")\n",
    "        return\n",
    "    R = [[0 for i in range(R2.ncols())] for j in range(R1.nrows())]\n",
    "    for a in range(R1.nrows()):\n",
    "        for c in range(R2.ncols()):\n",
    "            for b in range(R1.ncols()):\n",
    "                if R[a][c] < min(R1[a][b],R2[b][c]):\n",
    "                    R[a][c]=min(R1[a][b],R2[b][c])\n",
    "    return matrix(R)\n",
    "\n",
    "#R1 y R2 son matrices de Sage\n",
    "def minmax_comp(R1,R2):\n",
    "    if R1.ncols() != R2.nrows():\n",
    "        print(\"matrices de tamaño diferentes\")\n",
    "        return\n",
    "    R = [[1 for i in range(R2.ncols())] for j in range(R1.nrows())]\n",
    "    for a in range(R1.nrows()):\n",
    "        for c in range(R2.ncols()):\n",
    "            for b in range(R1.ncols()):\n",
    "                if R[a][c] > max(R1[a][b],R2[b][c]):\n",
    "                    R[a][c]=max(R1[a][b],R2[b][c])\n",
    "    return matrix(R)"
   ]
  },
  {
   "cell_type": "markdown",
   "metadata": {},
   "source": [
    "Creamos las matrices."
   ]
  },
  {
   "cell_type": "code",
   "execution_count": 117,
   "metadata": {},
   "outputs": [],
   "source": [
    "R1=matrix([[0.4, 0.3, 0.4], [0.8, 0.9, 0.6], [0.8, 0.2, 0.8], [0.4, 0.4, 0.8]]).numerical_approx(digits=1)\n",
    "R2=matrix([[0.7, 0.5, 0.2, 0.4], [0.8, 0.6, 0.7, 0.0], [0.8, 0.6, 0.3, 0.3]]).numerical_approx(digits=1)"
   ]
  },
  {
   "cell_type": "markdown",
   "metadata": {},
   "source": [
    "Y finalmente ejecutamos las subrutinas para el cálculo de las composiciones solicitadas."
   ]
  },
  {
   "cell_type": "code",
   "execution_count": 120,
   "metadata": {},
   "outputs": [
    {
     "data": {
      "text/plain": [
       "[0.70 0.50 0.40 0.30]\n",
       "[0.80 0.60 0.60 0.60]\n",
       "[0.80 0.60 0.70 0.20]\n",
       "[0.70 0.50 0.40 0.40]"
      ]
     },
     "execution_count": 120,
     "metadata": {},
     "output_type": "execute_result"
    }
   ],
   "source": [
    "minmax_comp(R1,R2)"
   ]
  },
  {
   "cell_type": "code",
   "execution_count": 121,
   "metadata": {},
   "outputs": [
    {
     "data": {
      "text/plain": [
       "[0.40 0.40 0.30 0.40]\n",
       "[0.80 0.60 0.70 0.40]\n",
       "[0.80 0.60 0.30 0.40]\n",
       "[0.80 0.60 0.40 0.40]"
      ]
     },
     "execution_count": 121,
     "metadata": {},
     "output_type": "execute_result"
    }
   ],
   "source": [
    "maxmin_comp(R1,R2)"
   ]
  },
  {
   "cell_type": "markdown",
   "metadata": {},
   "source": [
    "En notación de Zadeh estas relaciones se escriben como\n",
    "$$\\begin{aligned}\n",
    "R_1\\bullet R_2 &= \\frac{0.7}{(a_1,c_1)}+\\frac{0.5}{(a_1,c_2)}+\\frac{0.4}{(a_1,c_3)}+\\frac{0.3}{(a_1,c_4)}\\\\\n",
    "&\\quad+\\frac{0.8}{(a_2,c_1)}+\\frac{0.6}{(a_2,c_2)}+\\frac{0.6}{(a_2,c_3)}+\\frac{0.6}{(a_2,c_4)}\\\\\n",
    "&\\quad+\\frac{0.8}{(a_3,c_1)}+\\frac{0.6}{(a_3,c_2)}+\\frac{0.7}{(a_3,c_3)}+\\frac{0.2}{(a_3,c_4)}\\\\\n",
    "&\\quad+\\frac{0.7}{(a_4,c_1)}+\\frac{0.5}{(a_4,c_2)}+\\frac{0.4}{(a_4,c_3)}+\\frac{0.4}{(a_4,c_4)}\\\\\n",
    "\\end{aligned}$$\n",
    "y\n",
    "$$\\begin{aligned}\n",
    "R_1\\circ R_2 &= \\frac{0.4}{(a_1,c_1)}+\\frac{0.4}{(a_1,c_2)}+\\frac{0.3}{(a_1,c_3)}+\\frac{0.4}{(a_1,c_4)}\\\\\n",
    "&\\quad+\\frac{0.8}{(a_2,c_1)}+\\frac{0.6}{(a_2,c_2)}+\\frac{0.7}{(a_2,c_3)}+\\frac{0.4}{(a_2,c_4)}\\\\\n",
    "&\\quad+\\frac{0.8}{(a_3,c_1)}+\\frac{0.6}{(a_3,c_2)}+\\frac{0.3}{(a_3,c_3)}+\\frac{0.4}{(a_3,c_4)}\\\\\n",
    "&\\quad+\\frac{0.8}{(a_4,c_1)}+\\frac{0.6}{(a_4,c_2)}+\\frac{0.4}{(a_4,c_3)}+\\frac{0.4}{(a_4,c_4)}.\\\\\n",
    "\\end{aligned}$$\n",
    "\n",
    "Finalmente las proyecciones son\n",
    "\n",
    "$$(R_1\\bullet R_2)_A = \\frac{0.7}{a_1}+\\frac{0.8}{a_2}+\\frac{0.8}{a_3}+\\frac{0.7}{a_4}$$\n",
    "y\n",
    "$$(R_1\\circ R_2)_C =\\frac{0.8}{c_1}+\\frac{0.6}{c_2}+\\frac{0.7}{c_3}+\\frac{0.4}{c_4}.$$"
   ]
  },
  {
   "cell_type": "markdown",
   "metadata": {},
   "source": [
    "---\n",
    "### Ejercicio 1.2\n",
    "\n"
   ]
  },
  {
   "cell_type": "markdown",
   "metadata": {},
   "source": [
    "Sean $R_1$ y $R_2$ relaciones en $A\\times B$ y $B\\times C$, respectivamente, y que están definidas como matrices\n",
    "\n",
    "$R_1=\\left(\\begin{array}{rrr}\n",
    "0.4 & 0.1 & 0.4 \\\\\n",
    "0.1 & 0.3 & 0.9 \\\\\n",
    "0.8 & 0.7 & 0.7\n",
    "\\end{array}\\right)$\n",
    "\n",
    "y\n",
    "\n",
    "$R_2=\\left(\\begin{array}{rrrrr}\n",
    "0.4 & 0.2 & 0.1 & 0.3 & 0.8 \\\\\n",
    "0.1 & 0.6 & 0.0 & 1.0 & 0.8 \\\\\n",
    "0.1 & 0.8 & 0.2 & 0.3 & 0.6\n",
    "\\end{array}\\right),$\n",
    "\n",
    "donde $A=\\{a_1,a_2,a_3\\}$, $B=\\{b_1,b_2,b_3\\}$ y $C=\\{c_1,c_2,c_3, c_4,c_5\\}$.\n",
    "\n",
    "1. Calcular la composición min-max $R_1\\bullet R_2$ y escribir en forma matricial.\n",
    "2. Calcular la composición max-min $R_1\\circ R_2$ y escribir en forma matricial.\n",
    "3. Escribir $R_1\\bullet R_2$ y $R_1\\circ R_2$ utilizando la notación de Zadeh para conjuntos difusos.\n",
    "4. Escribir en notación de Zadeh la proyección de $R_1\\bullet R_2$ en $A$.\n",
    "5. Escribir en notación de Zadeh la proyección de $R_1\\circ R_2$ en $C$."
   ]
  },
  {
   "cell_type": "markdown",
   "metadata": {},
   "source": [
    "#### Rúbrica del Ejercicio 1.2"
   ]
  },
  {
   "cell_type": "markdown",
   "metadata": {},
   "source": [
    "|Criterio|0 Puntos|1 Punto|2 Puntos|\n",
    "|---|---|---|---|\n",
    "|Composición| No presenta ninguna matriz o presenta matrices incorrectas|La matriz de una de las composiciones es correcta| Las matrices de ambas composiciones son correctas|\n",
    "|Notación de las relaciones|No presenta las relaciones en notación de Zadeh|Una relación está escrita en notación de Zadeh de forma correcta|Ambas relaciones están escritas en notación de Zadeh de forma correcta|\n",
    "|Proyecciones|No presenta ninguna proyección|La proyección de una relación es correcta y está bien escrita con notación de Zadeh|La proyección de ambas relaciones es correcta y está bien escrita con notación de Zadeh|\n",
    "\n",
    "**Total** 6 Puntos"
   ]
  },
  {
   "cell_type": "markdown",
   "metadata": {},
   "source": [
    "#### Respuesta del Ejercicio 1.2\n",
    "\n"
   ]
  },
  {
   "cell_type": "markdown",
   "metadata": {},
   "source": [
    "Creamos las matrices."
   ]
  },
  {
   "cell_type": "code",
   "execution_count": 15,
   "metadata": {},
   "outputs": [],
   "source": [
    "R1=matrix([[0.4, 0.1, 0.4], [0.1, 0.3, 0.9], [0.8, 0.7, 0.7]]).numerical_approx(digits=1)\n",
    "R2=matrix([[0.4, 0.2, 0.1, 0.3, 0.8], [0.1, 0.6, 0.0, 1.0, 0.8],[0.1, 0.8, 0.2, 0.3, 0.6]]).numerical_approx(digits=1)"
   ]
  },
  {
   "cell_type": "markdown",
   "metadata": {},
   "source": [
    "Y finalmente ejecutamos las subrutinas para el cálculo de las composiciones solicitadas."
   ]
  },
  {
   "cell_type": "code",
   "execution_count": 16,
   "metadata": {},
   "outputs": [
    {
     "data": {
      "text/plain": [
       "[0.10 0.40 0.10 0.40 0.60]\n",
       "[0.30 0.20 0.10 0.30 0.80]\n",
       "[0.70 0.70 0.70 0.70 0.70]"
      ]
     },
     "execution_count": 16,
     "metadata": {},
     "output_type": "execute_result"
    }
   ],
   "source": [
    "minmax_comp(R1,R2)"
   ]
  },
  {
   "cell_type": "code",
   "execution_count": 17,
   "metadata": {},
   "outputs": [
    {
     "data": {
      "text/plain": [
       "[0.40 0.40 0.20 0.30 0.40]\n",
       "[0.10 0.80 0.20 0.30 0.60]\n",
       "[0.40 0.70 0.20 0.70 0.80]"
      ]
     },
     "execution_count": 17,
     "metadata": {},
     "output_type": "execute_result"
    }
   ],
   "source": [
    "maxmin_comp(R1,R2)"
   ]
  },
  {
   "cell_type": "markdown",
   "metadata": {},
   "source": [
    "En notación de Zadeh estas relaciones se escriben como\n",
    "$$\\begin{aligned}\n",
    "R_1\\bullet R_2 &= \\frac{0.1}{(a_1,c_1)}+\\frac{0.4}{(a_1,c_2)}+\\frac{0.1}{(a_1,c_3)}+\\frac{0.4}{(a_1,c_4)}+\\frac{0.6}{(a_1,c_5)}\\\\\n",
    "&\\quad+\\frac{0.3}{(a_2,c_1)}+\\frac{0.2}{(a_2,c_2)}+\\frac{0.1}{(a_2,c_3)}+\\frac{0.3}{(a_2,c_4)}+\\frac{0.8}{(a_2,c_5)}\\\\\n",
    "&\\quad+\\frac{0.7}{(a_3,c_1)}+\\frac{0.7}{(a_3,c_2)}+\\frac{0.7}{(a_3,c_3)}+\\frac{0.7}{(a_3,c_4)}+\\frac{0.7}{(a_3,c_5)}\\\\\n",
    "\\end{aligned}$$\n",
    "y\n",
    "$$\\begin{aligned}\n",
    "R_1\\circ R_2 &= \\frac{0.4}{(a_1,c_1)}+\\frac{0.4}{(a_1,c_2)}+\\frac{0.2}{(a_1,c_3)}+\\frac{0.3}{(a_1,c_4)}+\\frac{0.4}{(a_1,c_5)}\\\\\n",
    "&\\quad+\\frac{0.1}{(a_2,c_1)}+\\frac{0.8}{(a_2,c_2)}+\\frac{0.2}{(a_2,c_3)}+\\frac{0.3}{(a_2,c_4)}+\\frac{0.6}{(a_2,c_5)}\\\\\n",
    "&\\quad+\\frac{0.4}{(a_3,c_1)}+\\frac{0.7}{(a_3,c_2)}+\\frac{0.2}{(a_3,c_3)}+\\frac{0.7}{(a_3,c_4)}+\\frac{0.8}{(a_3,c_5)}.\\\\\n",
    "\\end{aligned}$$\n",
    "\n",
    "Finalmente las proyecciones son\n",
    "\n",
    "$$(R_1\\bullet R_2)_A = \\frac{0.6}{a_1}+\\frac{0.8}{a_2}+\\frac{0.7}{a_3}$$\n",
    "y\n",
    "$$(R_1\\circ R_2)_C =\\frac{0.4}{c_1}+\\frac{0.8}{c_2}+\\frac{0.2}{c_3}+\\frac{0.7}{c_4}+\\frac{0.8}{c_5}.$$"
   ]
  },
  {
   "cell_type": "markdown",
   "metadata": {},
   "source": [
    "---\n",
    "### Ejercicio 1.3\n",
    "\n"
   ]
  },
  {
   "cell_type": "markdown",
   "metadata": {},
   "source": [
    "Sean $R_1$ y $R_2$ relaciones en $A\\times B$ y $B\\times C$, respectivamente, y que están definidas como matrices\n",
    "\n",
    "$R_1=\\left(\\begin{array}{rr}\n",
    "0.9 & 0.1 \\\\\n",
    "0.1 & 0.7 \\\\\n",
    "0.2 & 0.0\n",
    "\\end{array}\\right)$\n",
    "\n",
    "y\n",
    "\n",
    "$R_2=\\left(\\begin{array}{rrrrr}\n",
    "0.0 & 0.5 & 0.9 & 0.0 & 0.9 \\\\\n",
    "0.1 & 0.5 & 0.7 & 0.8 & 0.3\n",
    "\\end{array}\\right),$\n",
    "\n",
    "donde $A=\\{a_1,a_2,a_3\\}$, $B=\\{b_1,b_2\\}$ y $C=\\{c_1,c_2,c_3, c_4,c_5\\}$.\n",
    "\n",
    "1. Calcular la composición min-max $R_1\\bullet R_2$ y escribir en forma matricial.\n",
    "2. Calcular la composición max-min $R_1\\circ R_2$ y escribir en forma matricial.\n",
    "3. Escribir $R_1\\bullet R_2$ y $R_1\\circ R_2$ utilizando la notación de Zadeh para conjuntos difusos.\n",
    "4. Escribir en notación de Zadeh la proyección de $R_1\\bullet R_2$ en $A$.\n",
    "5. Escribir en notación de Zadeh la proyección de $R_1\\circ R_2$ en $C$."
   ]
  },
  {
   "cell_type": "markdown",
   "metadata": {},
   "source": [
    "#### Rúbrica del Ejercicio 1.3"
   ]
  },
  {
   "cell_type": "markdown",
   "metadata": {},
   "source": [
    "|Criterio|0 Puntos|1 Punto|2 Puntos|\n",
    "|---|---|---|---|\n",
    "|Composición| No presenta ninguna matriz o presenta matrices incorrectas|La matriz de una de las composiciones es correcta| Las matrices de ambas composiciones son correctas|\n",
    "|Notación de las relaciones|No presenta las relaciones en notación de Zadeh|Una relación está escrita en notación de Zadeh de forma correcta|Ambas relaciones están escritas en notación de Zadeh de forma correcta|\n",
    "|Proyecciones|No presenta ninguna proyección|La proyección de una relación es correcta y está bien escrita con notación de Zadeh|La proyección de ambas relaciones es correcta y está bien escrita con notación de Zadeh|\n",
    "\n",
    "**Total** 6 Puntos"
   ]
  },
  {
   "cell_type": "markdown",
   "metadata": {},
   "source": [
    "#### Respuesta del Ejercicio 1.3\n"
   ]
  },
  {
   "cell_type": "markdown",
   "metadata": {},
   "source": [
    "Creamos las matrices."
   ]
  },
  {
   "cell_type": "code",
   "execution_count": 41,
   "metadata": {},
   "outputs": [],
   "source": [
    "R1=matrix([[0.9, 0.1], [0.1, 0.7], [0.2, 0.0]]).numerical_approx(digits=1)\n",
    "R2=matrix([[0.0, 0.5, 0.9, 0.0, 0.9], [0.1, 0.5, 0.7, 0.8, 0.3]]).numerical_approx(digits=1)"
   ]
  },
  {
   "cell_type": "markdown",
   "metadata": {},
   "source": [
    "Y finalmente ejecutamos las subrutinas para el cálculo de las composiciones solicitadas."
   ]
  },
  {
   "cell_type": "code",
   "execution_count": 39,
   "metadata": {},
   "outputs": [
    {
     "data": {
      "text/plain": [
       "[0.10 0.50 0.70 0.80 0.30]\n",
       "[0.10 0.50 0.70 0.10 0.70]\n",
       "[0.10 0.50 0.70 0.20 0.30]"
      ]
     },
     "execution_count": 39,
     "metadata": {},
     "output_type": "execute_result"
    }
   ],
   "source": [
    "minmax_comp(R1,R2)"
   ]
  },
  {
   "cell_type": "code",
   "execution_count": 40,
   "metadata": {},
   "outputs": [
    {
     "data": {
      "text/plain": [
       "[0.10 0.50 0.90 0.10 0.90]\n",
       "[0.10 0.50 0.70 0.70 0.30]\n",
       "[0.00 0.20 0.20 0.00 0.20]"
      ]
     },
     "execution_count": 40,
     "metadata": {},
     "output_type": "execute_result"
    }
   ],
   "source": [
    "maxmin_comp(R1,R2)"
   ]
  },
  {
   "cell_type": "markdown",
   "metadata": {},
   "source": [
    "En notación de Zadeh estas relaciones se escriben como\n",
    "$$\\begin{aligned}\n",
    "R_1\\bullet R_2 &= \\frac{0.1}{(a_1,c_1)}+\\frac{0.5}{(a_1,c_2)}+\\frac{0.7}{(a_1,c_3)}+\\frac{0.8}{(a_1,c_4)}+\\frac{0.3}{(a_1,c_5)}\\\\\n",
    "&\\quad+\\frac{0.1}{(a_2,c_1)}+\\frac{0.5}{(a_2,c_2)}+\\frac{0.7}{(a_2,c_3)}+\\frac{0.1}{(a_2,c_4)}+\\frac{0.7}{(a_2,c_5)}\\\\\n",
    "&\\quad+\\frac{0.1}{(a_3,c_1)}+\\frac{0.5}{(a_3,c_2)}+\\frac{0.7}{(a_3,c_3)}+\\frac{0.2}{(a_3,c_4)}+\\frac{0.3}{(a_3,c_5)}\\\\\n",
    "\\end{aligned}$$\n",
    "y\n",
    "$$\\begin{aligned}\n",
    "R_1\\circ R_2 &= \\frac{0.1}{(a_1,c_1)}+\\frac{0.5}{(a_1,c_2)}+\\frac{0.9}{(a_1,c_3)}+\\frac{0.1}{(a_1,c_4)}+\\frac{0.9}{(a_1,c_5)}\\\\\n",
    "&\\quad+\\frac{0.1}{(a_2,c_1)}+\\frac{0.5}{(a_2,c_2)}+\\frac{0.7}{(a_2,c_3)}+\\frac{0.7}{(a_2,c_4)}+\\frac{0.3}{(a_2,c_5)}\\\\\n",
    "&\\quad+\\frac{0.0}{(a_3,c_1)}+\\frac{0.2}{(a_3,c_2)}+\\frac{0.2}{(a_3,c_3)}+\\frac{0.0}{(a_3,c_4)}+\\frac{0.2}{(a_3,c_5)}.\\\\\n",
    "\\end{aligned}$$\n",
    "\n",
    "Finalmente las proyecciones son\n",
    "\n",
    "$$(R_1\\bullet R_2)_A = \\frac{0.8}{a_1}+\\frac{0.7}{a_2}+\\frac{0.7}{a_3}$$\n",
    "y\n",
    "$$(R_1\\circ R_2)_C =\\frac{0.1}{c_1}+\\frac{0.5}{c_2}+\\frac{0.9}{c_3}+\\frac{0.7}{c_4}+\\frac{0.9}{c_5}.$$"
   ]
  },
  {
   "cell_type": "markdown",
   "metadata": {},
   "source": [
    "---\n",
    "### Ejercicio 2.1\n",
    "\n"
   ]
  },
  {
   "cell_type": "markdown",
   "metadata": {},
   "source": [
    "Aplica la regla de inferencia composicional con la relación $R$ de abajo. Toma como premisa que $x$ está $X=0.4/x_1+0.9/x_2+0.2/x_3$ y $x$ e $y$ están en $R$, donde\n",
    "\n",
    "$$R=\\left(\\begin{array}{rrr}\n",
    "1.0 & 0.1 & 0.0 \\\\\n",
    "0.8 & 0.4 & 0.2 \\\\\n",
    "0.7 & 0.1 & 0.1\n",
    "\\end{array}\\right).\n",
    "$$\n",
    "\n",
    "1. Muestra la matriz de la composición $X\\circ R$.\n",
    "2. Da una intepretación de $X$ y $R$ utilizando variables linguisticas. Estas variables linguisticas deben de ser diferentes a las utilizadas en el libro de texto del curso.\n",
    "3. Aplica el modificador _slightly_ a la variable linguistica de $X$ y _extremely_ a la variable linguistica de $R$. Muestra la matriz de la composición $X\\circ R$ luego de aplicar los modificadores.\n",
    "4. ¿Cuál es aproximación linguistica de la inferencia composicional resultante de aplicar las variables linguisticas y modificadores que elegiste?"
   ]
  },
  {
   "cell_type": "markdown",
   "metadata": {},
   "source": [
    "#### Rúbrica del Ejercicio 2.1\n",
    "\n",
    "|Criterio|0 Puntos|1 Punto|2 Puntos|\n",
    "|---|---|---|---|\n",
    "|**Composición sin modificadores**|No escribe la matriz de $X\\circ R$ o lo escribe incorrectamente|Escribe correctamente la matriz de $X\\circ R$|\n",
    "|**Variables linguisticas**|No presenta ninguna variable linguistica|Presenta una variable linguistica razonable para $X$ o $R$|Presenta variables linguisticas razonables para $X$ y $R$|\n",
    "|**Modificadores**|No aplica modificadores a las variables linguisticas y no presenta la matriz solicitada|Aplica los modificadores a las variables linguisticas o presenta correctamente la matriz solicitada|Aplica los modificadores a las variables linguisticas y presenta correctamente la matriz solicitada|\n",
    "|**Aproximación linguistica**|No presenta una aproximación linguistica razonable para la inferencia composicional|Presenta una aproximación linguistica razonable para la inferencia composicional|\n",
    "\n",
    "**Total** 6 Puntos"
   ]
  },
  {
   "cell_type": "markdown",
   "metadata": {},
   "source": [
    "#### Respuesta del Ejercicio 2.1\n",
    "\n"
   ]
  },
  {
   "cell_type": "markdown",
   "metadata": {},
   "source": [
    "Primero creamos el conjunto difuso $X$ y la relación $R$."
   ]
  },
  {
   "cell_type": "code",
   "execution_count": 16,
   "metadata": {},
   "outputs": [],
   "source": [
    "R=matrix([[1.0, 0.1, 0.0], [0.8, 0.4, 0.2], [0.7, 0.1, 0.1]]).numerical_approx(digits=1)\n",
    "X=matrix([0.4, 0.9, 0.2]).numerical_approx(digits=1)"
   ]
  },
  {
   "cell_type": "markdown",
   "metadata": {},
   "source": [
    "Ahora calculamos $X\\circ R$."
   ]
  },
  {
   "cell_type": "code",
   "execution_count": 17,
   "metadata": {},
   "outputs": [
    {
     "data": {
      "text/plain": [
       "[0.80 0.40 0.20]"
      ]
     },
     "execution_count": 17,
     "metadata": {},
     "output_type": "execute_result"
    }
   ],
   "source": [
    "maxmin_comp(X,R)"
   ]
  },
  {
   "cell_type": "markdown",
   "metadata": {},
   "source": [
    "Una interpretación para $X$ puede ser BLACK HAIR, indicando que una persona tiene pelo negro. Una interpretación para $R$ puede ser SAME HAIR COLOR, indicando que dos personas tiene el mismo color de pelo. Si aplicamos _slightly_ a BLACK HAIR y _extremely_ a SAME HAIR COLOR, tenemos que"
   ]
  },
  {
   "cell_type": "code",
   "execution_count": 18,
   "metadata": {},
   "outputs": [
    {
     "data": {
      "text/plain": [
       "[0.73 0.97 0.59]"
      ]
     },
     "execution_count": 18,
     "metadata": {},
     "output_type": "execute_result"
    }
   ],
   "source": [
    "X2=X.apply_map(x^(1/3))\n",
    "X2"
   ]
  },
  {
   "cell_type": "code",
   "execution_count": 19,
   "metadata": {},
   "outputs": [
    {
     "data": {
      "text/plain": [
       "[    1.0 0.00099       0]\n",
       "[   0.51   0.063  0.0079]\n",
       "[   0.35 0.00099 0.00099]"
      ]
     },
     "execution_count": 19,
     "metadata": {},
     "output_type": "execute_result"
    }
   ],
   "source": [
    "R2=R.apply_map(x^3)\n",
    "R2"
   ]
  },
  {
   "cell_type": "markdown",
   "metadata": {},
   "source": [
    "Ahora volvemos a calcular la composición con los modificadores."
   ]
  },
  {
   "cell_type": "code",
   "execution_count": 20,
   "metadata": {},
   "outputs": [
    {
     "data": {
      "text/plain": [
       "[  0.73  0.063 0.0079]"
      ]
     },
     "execution_count": 20,
     "metadata": {},
     "output_type": "execute_result"
    }
   ],
   "source": [
    "maxmin_comp(X2,R2)"
   ]
  },
  {
   "cell_type": "markdown",
   "metadata": {},
   "source": [
    "Una aproximación linguistica de la inferencia composicional es: If $x$ has SLIGHTLY BLACK HAIR and $x$ and $y$ has EXTREMELY THE SAME HAIR COLOR, then $y$ has EXTREMELY SLIGHTLY BLACK HAIR."
   ]
  },
  {
   "cell_type": "markdown",
   "metadata": {},
   "source": [
    "---\n",
    "### Ejercicio 2.2\n",
    "\n"
   ]
  },
  {
   "cell_type": "markdown",
   "metadata": {},
   "source": [
    "Aplica la regla de inferencia composicional con la relación $R$ de abajo. Toma como premisa que $x$ está $X=0.1/x_1+1/x_2+0/x_3$ y $x$ e $y$ están en $R$, donde\n",
    "\n",
    "$$R=\\left(\\begin{array}{rr}\n",
    "0.90 & 0.20 \\\\\n",
    "1.0 & 0.20 \\\\\n",
    "0.20 & 0.00\n",
    "\\end{array}\\right).\n",
    "$$\n",
    "\n",
    "1. Muestra la matriz de la composición $X\\circ R$.\n",
    "2. Da una intepretación de $X$ y $R$ utilizando variables linguisticas. Estas variables linguisticas deben de ser diferentes a las utilizadas en el libro de texto del curso.\n",
    "3. Aplica el modificador _slightly_ a la variable linguistica de $X$ y _extremely_ a la variable linguistica de $R$. Muestra la matriz de la composición $X\\circ R$ luego de aplicar los modificadores.\n",
    "4. ¿Cuál es aproximación linguistica de la inferencia composicional resultante de aplicar las variables linguisticas y modificadores que elegiste?"
   ]
  },
  {
   "cell_type": "markdown",
   "metadata": {},
   "source": [
    "#### Rúbrica del Ejercicio 2.2"
   ]
  },
  {
   "cell_type": "markdown",
   "metadata": {},
   "source": [
    "|Criterio|0 Puntos|1 Punto|2 Puntos|\n",
    "|---|---|---|---|\n",
    "|**Composición sin modificadores**|No escribe la matriz de $X\\circ R$ o lo escribe incorrectamente|Escribe correctamente la matriz de $X\\circ R$|\n",
    "|**Variables linguisticas**|No presenta ninguna variable linguistica|Presenta una variable linguistica razonable para $X$ o $R$|Presenta variables linguisticas razonables para $X$ y $R$|\n",
    "|**Modificadores**|No aplica modificadores a las variables linguisticas y no presenta la matriz solicitada|Aplica los modificadores a las variables linguisticas o presenta correctamente la matriz solicitada|Aplica los modificadores a las variables linguisticas y presenta correctamente la matriz solicitada|\n",
    "|**Aproximación linguistica**|No presenta una aproximación linguistica razonable para la inferencia composicional|Presenta una aproximación linguistica razonable para la inferencia composicional|\n",
    "\n",
    "**Total** 6 Puntos"
   ]
  },
  {
   "cell_type": "markdown",
   "metadata": {},
   "source": [
    "#### Respuesta del Ejercicio 2.2\n",
    "\n"
   ]
  },
  {
   "cell_type": "markdown",
   "metadata": {},
   "source": [
    "Primero creamos el conjunto difuso $X$ y la relación $R$."
   ]
  },
  {
   "cell_type": "code",
   "execution_count": 6,
   "metadata": {},
   "outputs": [],
   "source": [
    "X=matrix([0.1, 1.0, 0.0]).numerical_approx(digits=1)\n",
    "R=matrix([[0.9, 0.2], [1.0, 0.2], [0.2, 0.0]]).numerical_approx(digits=1)"
   ]
  },
  {
   "cell_type": "markdown",
   "metadata": {},
   "source": [
    "Ahora calculamos $X\\circ R$."
   ]
  },
  {
   "cell_type": "code",
   "execution_count": 7,
   "metadata": {},
   "outputs": [
    {
     "data": {
      "text/plain": [
       "[ 1.0 0.20]"
      ]
     },
     "execution_count": 7,
     "metadata": {},
     "output_type": "execute_result"
    }
   ],
   "source": [
    "maxmin_comp(X,R)"
   ]
  },
  {
   "cell_type": "markdown",
   "metadata": {},
   "source": [
    "Una interpretación para $X$ puede ser BLACK HAIR, indicando que una persona tiene pelo negro. Una interpretación para $R$ puede ser SAME HAIR COLOR, indicando que dos personas tiene el mismo color de pelo. Si aplicamos _slightly_ a BLACK HAIR y _extremely_ a SAME HAIR COLOR, tenemos que"
   ]
  },
  {
   "cell_type": "code",
   "execution_count": 8,
   "metadata": {},
   "outputs": [
    {
     "data": {
      "text/plain": [
       "[0.46  1.0    0]"
      ]
     },
     "execution_count": 8,
     "metadata": {},
     "output_type": "execute_result"
    }
   ],
   "source": [
    "X2=X.apply_map(x^(1/3))\n",
    "X2"
   ]
  },
  {
   "cell_type": "code",
   "execution_count": 9,
   "metadata": {},
   "outputs": [
    {
     "data": {
      "text/plain": [
       "[  0.73 0.0079]\n",
       "[   1.0 0.0079]\n",
       "[0.0079      0]"
      ]
     },
     "execution_count": 9,
     "metadata": {},
     "output_type": "execute_result"
    }
   ],
   "source": [
    "R2=R.apply_map(x^3)\n",
    "R2"
   ]
  },
  {
   "cell_type": "markdown",
   "metadata": {},
   "source": [
    "Ahora volvemos a calcular la composición con los modificadores."
   ]
  },
  {
   "cell_type": "code",
   "execution_count": 10,
   "metadata": {},
   "outputs": [
    {
     "data": {
      "text/plain": [
       "[   1.0 0.0079]"
      ]
     },
     "execution_count": 10,
     "metadata": {},
     "output_type": "execute_result"
    }
   ],
   "source": [
    "maxmin_comp(X2,R2)"
   ]
  },
  {
   "cell_type": "markdown",
   "metadata": {},
   "source": [
    "Una aproximación linguistica de la inferencia composicional es: If $x$ has SLIGHTLY BLACK HAIR and $x$ and $y$ has EXTREMELY THE SAME HAIR COLOR, then $y$ has EXTREMELY SLIGHTLY BLACK HAIR."
   ]
  },
  {
   "cell_type": "markdown",
   "metadata": {},
   "source": [
    "---\n",
    "### Ejercicio 2.3\n",
    "\n"
   ]
  },
  {
   "cell_type": "markdown",
   "metadata": {},
   "source": [
    "Aplica la regla de inferencia composicional con la relación $R$ de abajo. Toma como premisa que $x$ está $X=0.2/x_1+0.7/x_2+0.4/x_3$ y $x$ e $y$ están en $R$, donde\n",
    "\n",
    "$$R=\\left(\\begin{array}{rrrr}\n",
    "0.30 & 0.50 & 0.20 & 0.20 \\\\\n",
    "0.50 & 0.30 & 0.00 & 0.10 \\\\\n",
    "0.50 & 0.60 & 0.90 & 0.40\n",
    "\\end{array}\\right).\n",
    "$$\n",
    "\n",
    "1. Muestra la matriz de la composición $X\\circ R$.\n",
    "2. Da una intepretación de $X$ y $R$ utilizando variables linguisticas. Estas variables linguisticas deben de ser diferentes a las utilizadas en el libro de texto del curso.\n",
    "3. Aplica el modificador _slightly_ a la variable linguistica de $X$ y _extremely_ a la variable linguistica de $R$. Muestra la matriz de la composición $X\\circ R$ luego de aplicar los modificadores.\n",
    "4. ¿Cuál es aproximación linguistica de la inferencia composicional resultante de aplicar las variables linguisticas y modificadores que elegiste?"
   ]
  },
  {
   "cell_type": "markdown",
   "metadata": {},
   "source": [
    "#### Rúbrica del Ejercicio 2.3"
   ]
  },
  {
   "cell_type": "markdown",
   "metadata": {},
   "source": [
    "|Criterio|0 Puntos|1 Punto|2 Puntos|\n",
    "|---|---|---|---|\n",
    "|**Composición sin modificadores**|No escribe la matriz de $X\\circ R$ o lo escribe incorrectamente|Escribe correctamente la matriz de $X\\circ R$|\n",
    "|**Variables linguisticas**|No presenta ninguna variable linguistica|Presenta una variable linguistica razonable para $X$ o $R$|Presenta variables linguisticas razonables para $X$ y $R$|\n",
    "|**Modificadores**|No aplica modificadores a las variables linguisticas y no presenta la matriz solicitada|Aplica los modificadores a las variables linguisticas o presenta correctamente la matriz solicitada|Aplica los modificadores a las variables linguisticas y presenta correctamente la matriz solicitada|\n",
    "|**Aproximación linguistica**|No presenta una aproximación linguistica razonable para la inferencia composicional|Presenta una aproximación linguistica razonable para la inferencia composicional|\n",
    "\n",
    "**Total** 6 Puntos"
   ]
  },
  {
   "cell_type": "markdown",
   "metadata": {},
   "source": [
    "#### Respuesta del Ejercicio 2.3\n",
    "\n"
   ]
  },
  {
   "cell_type": "markdown",
   "metadata": {},
   "source": [
    "Primero creamos el conjunto difuso $X$ y la relación $R$."
   ]
  },
  {
   "cell_type": "code",
   "execution_count": 21,
   "metadata": {},
   "outputs": [],
   "source": [
    "X=matrix([0.2, 0.7, 0.4]).numerical_approx(digits=1)\n",
    "R=matrix([[0.3, 0.5, 0.2, 0.2], [0.5, 0.3, 0.0, 0.1], [0.5, 0.6, 0.9, 0.4]]).numerical_approx(digits=1)"
   ]
  },
  {
   "cell_type": "markdown",
   "metadata": {},
   "source": [
    "Ahora calculamos $X\\circ R$."
   ]
  },
  {
   "cell_type": "code",
   "execution_count": 12,
   "metadata": {},
   "outputs": [
    {
     "data": {
      "text/plain": [
       "[0.50 0.40 0.40 0.40]"
      ]
     },
     "execution_count": 12,
     "metadata": {},
     "output_type": "execute_result"
    }
   ],
   "source": [
    "maxmin_comp(X,R)"
   ]
  },
  {
   "cell_type": "markdown",
   "metadata": {},
   "source": [
    "Una interpretación para $X$ puede ser BLACK HAIR, indicando que una persona tiene pelo negro. Una interpretación para $R$ puede ser SAME HAIR COLOR, indicando que dos personas tiene el mismo color de pelo. Si aplicamos _slightly_ a BLACK HAIR y _extremely_ a SAME HAIR COLOR, tenemos que"
   ]
  },
  {
   "cell_type": "code",
   "execution_count": 13,
   "metadata": {},
   "outputs": [
    {
     "data": {
      "text/plain": [
       "[0.59 0.89 0.73]"
      ]
     },
     "execution_count": 13,
     "metadata": {},
     "output_type": "execute_result"
    }
   ],
   "source": [
    "X2=X.apply_map(x^(1/3))\n",
    "X2"
   ]
  },
  {
   "cell_type": "code",
   "execution_count": 14,
   "metadata": {},
   "outputs": [
    {
     "data": {
      "text/plain": [
       "[  0.027    0.12  0.0079  0.0079]\n",
       "[   0.12   0.027       0 0.00099]\n",
       "[   0.12    0.22    0.73   0.063]"
      ]
     },
     "execution_count": 14,
     "metadata": {},
     "output_type": "execute_result"
    }
   ],
   "source": [
    "R2=R.apply_map(x^3)\n",
    "R2"
   ]
  },
  {
   "cell_type": "markdown",
   "metadata": {},
   "source": [
    "Ahora volvemos a calcular la composición con los modificadores."
   ]
  },
  {
   "cell_type": "code",
   "execution_count": 15,
   "metadata": {},
   "outputs": [
    {
     "data": {
      "text/plain": [
       "[ 0.12  0.22  0.73 0.063]"
      ]
     },
     "execution_count": 15,
     "metadata": {},
     "output_type": "execute_result"
    }
   ],
   "source": [
    "maxmin_comp(X2,R2)"
   ]
  },
  {
   "cell_type": "markdown",
   "metadata": {},
   "source": [
    "Una aproximación linguistica de la inferencia composicional es: If $x$ has SLIGHTLY BLACK HAIR and $x$ and $y$ has EXTREMELY THE SAME HAIR COLOR, then $y$ has EXTREMELY SLIGHTLY BLACK HAIR."
   ]
  },
  {
   "cell_type": "markdown",
   "metadata": {},
   "source": [
    "---\n",
    "### Ejercicio 3.1\n",
    "\n"
   ]
  },
  {
   "cell_type": "markdown",
   "metadata": {},
   "source": [
    "La figura de abajo muestra el grafo de un automáta difuso finito. Los vértices son los estados, el vértice en color rosa es el estado inicial, y cada arista representa una transición. El círculo sobre un vértice indica un lazo sobre ese estado. La etiqueta de cada arista tiene la forma $\\sigma;r$, donde $\\sigma\\in \\Sigma\\cup \\Sigma^2$ es la entrada y $r\\in[0,1]$ es el grado de membresía para esa entrada entre ese par de vértices. Si la entrada $\\sigma$ es de la forma $(\\sigma_1,\\sigma_2)$ se está indicando que esa transición ocurre para el símbolo $\\sigma_1$ o el símbolo $\\sigma_2$; si $\\sigma$ es un solo símbolo de alfabeto, entonces esa transición ocurre solo para ese símbolo. Por ejemplo, si el autómata está en el estado $A$ y la entrada es 0, entonces el autómata cambia al estado $B$ y su grado de membresía para esa transición es 0. El estado $B$ tiene un lazo que indica que la transición en $B$ para cualquier entrada 0 o 1 tiene un grado de membresía de 0.25."
   ]
  },
  {
   "cell_type": "code",
   "execution_count": 85,
   "metadata": {
    "jupyter": {
     "source_hidden": true
    }
   },
   "outputs": [
    {
     "data": {
      "image/png": "[encoded data removed]",
      "text/plain": [
       "Graphics object consisting of 10 graphics primitives"
      ]
     },
     "execution_count": 85,
     "metadata": {},
     "output_type": "execute_result"
    }
   ],
   "source": [
    "A=DiGraph([('A','B','0;0'),('A','B','1;0.5'),('B','B','0,1;0.25')], multiedges=True, loops=True)\n",
    "plot(A, vertex_size=1000, vertex_colors={'white':['B']}, edge_labels=True, loop_size=0.25)"
   ]
  },
  {
   "cell_type": "markdown",
   "metadata": {},
   "source": [
    "1. Escribir la definición formal del autómata.\n",
    "2. Calcula el grado de membresía de la cadena 0110.\n",
    "3. Calcula el grado de membresía de la cadena 1001.\n",
    "4. Escribe formalmente el lenguaje reconocido (aceptado) por el autómata."
   ]
  },
  {
   "cell_type": "markdown",
   "metadata": {},
   "source": [
    "#### Rúbrica del Ejercicio 3.1\n",
    "\n",
    "|Criterio|0 Puntos|1 Punto|2 Puntos|3 Puntos|\n",
    "|---|---|---|---|---|\n",
    "|**Definición formal**|No escribe formalmente ninguna parte de la definición|Escribe formalmente uno de las tres partes de la definición|Escribe formalmente dos de las tres partes de la definición|Escribe formalmente las tres partes de la definición|\n",
    "|**Grados de membresía**|Ningún grado de membresía es correcto|Un grado de memebresía solicitado es correcto|Ambos grados de membresía solicitados son correctos|\n",
    "|**Lenguaje reconocido**|No escribe ni explica correctamente el lenguaje reconocido|Describe correctamente el lenguaje reconocido|Escribe formalmente el lenguaje reconocido|\n",
    "\n",
    "**Total** 7 Puntos"
   ]
  },
  {
   "cell_type": "markdown",
   "metadata": {},
   "source": [
    "#### Respuesta del Ejercicio 3.1"
   ]
  },
  {
   "cell_type": "markdown",
   "metadata": {},
   "source": [
    "Definimos el autómata de la figura como $M=(Q,\\Sigma,A)$, donde\n",
    "- $Q=\\{A,B\\}$,\n",
    "- $\\Sigma=\\{0,1\\}$,\n",
    "- $A=\\frac{0}{(A,0,B)}+\\frac{0.5}{A,1,B}+\\frac{0.25}{B,0,B}+\\frac{0.25}{B,1,B}$.\n",
    "\n",
    "El grado de membresía de 0110 es 0, y el grado de membresía de 1001 es 0.25.\n",
    "\n",
    "El lenguaje reconocido por $M$ es $L(M)=\\{(0w,0):w\\in\\Sigma^*\\}\\cup \\{(1x,0.25):x\\in \\Sigma^+\\}\\cup\\{(1,0.5)\\}$."
   ]
  },
  {
   "cell_type": "markdown",
   "metadata": {},
   "source": [
    "---\n",
    "### Ejercicio 3.2\n",
    "\n"
   ]
  },
  {
   "cell_type": "markdown",
   "metadata": {},
   "source": [
    "La figura de abajo muestra el grafo de un automáta difuso finito. Los vértices son los estados, el vértice en color rosa es el estado inicial, y cada arista representa una transición. El círculo sobre un vértice indica un lazo sobre ese estado. La etiqueta de cada arista tiene la forma $\\sigma;r$, donde $\\sigma\\in \\Sigma\\cup \\Sigma^2$ es la entrada y $r\\in[0,1]$ es el grado de membresía para esa entrada entre ese par de vértices. Si la entrada $\\sigma$ es de la forma $(\\sigma_1,\\sigma_2)$ se está indicando que esa transición ocurre para el símbolo $\\sigma_1$ o el símbolo $\\sigma_2$; si $\\sigma$ es un solo símbolo de alfabeto, entonces esa transición ocurre solo para ese símbolo. Por ejemplo, si el autómata está en el estado $A$ y la entrada es 1, entonces el autómata cambia al estado $C$ y su grado de membresía para esa transición es 0.5. El estado $B$ tiene un lazo que indica que la transición en $B$ para cualquier entrada 0 o 1 tiene un grado de membresía de 0.25. La arista entre C y B indica que leyendo 1 o 0 el grado de membresía de C a B es 0.5."
   ]
  },
  {
   "cell_type": "code",
   "execution_count": 15,
   "metadata": {
    "jupyter": {
     "source_hidden": true
    }
   },
   "outputs": [
    {
     "data": {
      "image/png": "[encoded data removed]",
      "text/plain": [
       "Graphics object consisting of 14 graphics primitives"
      ]
     },
     "execution_count": 15,
     "metadata": {},
     "output_type": "execute_result"
    }
   ],
   "source": [
    "A=DiGraph([('A','B','0;0'),('B','B','0,1;0.25'),('A','C','1;0.5'),('C','B','0,1;0.5')], multiedges=True, loops=True)\n",
    "plot(A, vertex_size=1000, vertex_colors={'white':['B','C']}, edge_labels=True, loop_size=0.25)"
   ]
  },
  {
   "cell_type": "markdown",
   "metadata": {},
   "source": [
    "1. Escribir la definición formal del autómata.\n",
    "2. Calcula el grado de membresía de la cadena 0110.\n",
    "3. Calcula el grado de membresía de la cadena 1001.\n",
    "4. Escribe formalmente el lenguaje reconocido (aceptado) por el autómata."
   ]
  },
  {
   "cell_type": "markdown",
   "metadata": {},
   "source": [
    "#### Rúbrica del Ejercicio 3.2"
   ]
  },
  {
   "cell_type": "markdown",
   "metadata": {},
   "source": [
    "|Criterio|0 Puntos|1 Punto|2 Puntos|3 Puntos|\n",
    "|---|---|---|---|---|\n",
    "|**Definición formal**|No escribe formalmente ninguna parte de la definición|Escribe formalmente uno de las tres partes de la definición|Escribe formalmente dos de las tres partes de la definición|Escribe formalmente las tres partes de la definición|\n",
    "|**Grados de membresía**|Ningún grado de membresía es correcto|Un grado de memebresía solicitado es correcto|Ambos grados de membresía solicitados son correctos|\n",
    "|**Lenguaje reconocido**|No escribe ni explica correctamente el lenguaje reconocido|Describe correctamente el lenguaje reconocido|Escribe formalmente el lenguaje reconocido|\n",
    "\n",
    "**Total** 7 Puntos"
   ]
  },
  {
   "cell_type": "markdown",
   "metadata": {},
   "source": [
    "#### Respuesta del Ejercicio 3.2"
   ]
  },
  {
   "cell_type": "markdown",
   "metadata": {},
   "source": [
    "Definimos el autómata de la figura como $M=(Q,\\Sigma,A)$, donde\n",
    "- $Q=\\{A,B,C\\}$,\n",
    "- $\\Sigma=\\{0,1\\}$,\n",
    "- $A=\\frac{0}{(A,0,B)}+\\frac{0.25}{B,0,B}+\\frac{0.25}{B,1,B}+\\frac{0.5}{(A,1,C)}+\\frac{0.5}{(C,0,B)}+\\frac{0.5}{(C,1,B)}$.\n",
    "\n",
    "El grado de membresía de 0110 es 0, y el grado de membresía de 1001 es 0.25.\n",
    "\n",
    "El lenguaje reconocido por $M$ es $L(M)=\\{(0w,0):w\\in\\Sigma^*\\}\\cup \\{(11x,0.25):x\\in \\Sigma^+\\}\\cup\\{(1,0.5),(11,0.5)\\}$."
   ]
  },
  {
   "cell_type": "markdown",
   "metadata": {},
   "source": [
    "---\n",
    "### Ejercicio 3.3\n",
    "\n"
   ]
  },
  {
   "cell_type": "markdown",
   "metadata": {},
   "source": [
    "La figura de abajo muestra el grafo de un automáta difuso finito. Los vértices son los estados, el vértice en color rosa es el estado inicial, y cada arista representa una transición. El círculo sobre un vértice indica un lazo sobre ese estado. La etiqueta de cada arista tiene la forma $\\sigma;r$, donde $\\sigma\\in \\Sigma\\cup \\Sigma^2$ es la entrada y $r\\in[0,1]$ es el grado de membresía para esa entrada entre ese par de vértices. Si la entrada $\\sigma$ es de la forma $(\\sigma_1,\\sigma_2)$ se está  indicando que esa transición ocurre para el símbolo $\\sigma_1$ o el símbolo $\\sigma_2$; si $\\sigma$ es un solo símbolo de alfabeto, entonces esa transición ocurre solo para ese símbolo. Por ejemplo, si el autómata está en el estado $A$ y la entrada es 1, entonces el autómata cambia al estado $C$ y su grado de membresía para esa transición es 0.5. El estado $B$ tiene un lazo que indica que la transición en $B$ para cualquier entrada 0 o 1 tiene un grado de membresía de 0.25."
   ]
  },
  {
   "cell_type": "code",
   "execution_count": 14,
   "metadata": {
    "jupyter": {
     "source_hidden": true
    }
   },
   "outputs": [
    {
     "data": {
      "image/png": "[encoded data removed]",
      "text/plain": [
       "Graphics object consisting of 14 graphics primitives"
      ]
     },
     "execution_count": 14,
     "metadata": {},
     "output_type": "execute_result"
    }
   ],
   "source": [
    "A=DiGraph([('A','B','0;0.5'),('B','B','0,1;0.25'),('A','C','1;0.5'),('C','C','1,0;0.75')], multiedges=True, loops=True)\n",
    "plot(A, vertex_size=1000, vertex_colors={'white':['B','C']}, edge_labels=True, loop_size=0.25)"
   ]
  },
  {
   "cell_type": "markdown",
   "metadata": {},
   "source": [
    "1. Escribir la definición formal del autómata.\n",
    "2. Calcula el grado de membresía de la cadena 0110.\n",
    "3. Calcula el grado de membresía de la cadena 1001.\n",
    "4. Escribe formalmente el lenguaje reconocido (aceptado) por el autómata."
   ]
  },
  {
   "cell_type": "markdown",
   "metadata": {},
   "source": [
    "#### Rúbrica del Ejercicio 3.3"
   ]
  },
  {
   "cell_type": "markdown",
   "metadata": {},
   "source": [
    "|Criterio|0 Puntos|1 Punto|2 Puntos|3 Puntos|\n",
    "|---|---|---|---|---|\n",
    "|**Definición formal**|No escribe formalmente ninguna parte de la definición|Escribe formalmente uno de las tres partes de la definición|Escribe formalmente dos de las tres partes de la definición|Escribe formalmente las tres partes de la definición|\n",
    "|**Grados de membresía**|Ningún grado de membresía es correcto|Un grado de memebresía solicitado es correcto|Ambos grados de membresía solicitados son correctos|\n",
    "|**Lenguaje reconocido**|No escribe ni explica correctamente el lenguaje reconocido|Describe correctamente el lenguaje reconocido|Escribe formalmente el lenguaje reconocido|\n",
    "\n",
    "**Total** 7 Puntos"
   ]
  },
  {
   "cell_type": "markdown",
   "metadata": {},
   "source": [
    "#### Respuesta del Ejercicio 3.3\n",
    "\n"
   ]
  },
  {
   "cell_type": "markdown",
   "metadata": {},
   "source": [
    "Definimos el autómata de la figura como $M=(Q,\\Sigma,A)$, donde\n",
    "- $Q=\\{A,B,C\\}$,\n",
    "- $\\Sigma=\\{0,1\\}$,\n",
    "- $A=\\frac{0.5}{(A,1,C)}+\\frac{0.5}{(A,0,B)}+\\frac{0.25}{(B,0,B)}+\\frac{0.25}{(B,1,B)}+\\frac{0.75}{(C,1,C)}+\\frac{0.75}{(C,0,C)}$.\n",
    "\n",
    "El grado de membresía de 0110 es 0.25, y el grado de membresía de 1001 es 0.5.\n",
    "\n",
    "El lenguaje reconocido por $M$ es $L(M)=\\{(0w,0.25):w\\in\\Sigma^*\\}\\cup \\{(1x,0.5):x\\in \\Sigma^*\\}$."
   ]
  }
 ],
 "metadata": {
  "kernelspec": {
   "display_name": "SageMath 9.2 [conda env:sage]",
   "language": "sage",
   "name": "conda-env-sage-sagemath"
  },
  "language_info": {
   "codemirror_mode": {
    "name": "ipython",
    "version": 3
   },
   "file_extension": ".py",
   "mimetype": "text/x-python",
   "name": "python",
   "nbconvert_exporter": "python",
   "pygments_lexer": "ipython3",
   "version": "3.7.9"
  }
 },
 "nbformat": 4,
 "nbformat_minor": 4
}

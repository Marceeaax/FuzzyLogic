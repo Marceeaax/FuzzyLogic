{
 "cells": [
  {
   "cell_type": "markdown",
   "id": "57b3741a",
   "metadata": {},
   "source": [
    "**Ejercicio 3.** Sean $R_1$ y $R_2$ relaciones en $A×B$ y $B×C$, respectivamente, donde $A=\\{a_1,a_2,a_3,a_4\\}, B=\\{b_1,b_2,b_3\\}$ y $C=\\{c_1,c_2,c_3,c_4\\}$.\n",
    "\n",
    "1. Construye las relaciones $R_1$ y $R_2$ de forma aleatoria. (Utiliza por ejemplo la función random() de Python.)\n",
    "2. Calcula la composición min-max R1∙R2 y escribir en forma matricial.\n",
    "3. Calcula la composición max-min R1∘R2 y escribir en forma matricial.\n",
    "4. Escribe R1∙R2 y R1∘R2 utilizando la notación de Zadeh para conjuntos difusos.\n",
    "5. Escribe en notación de Zadeh la proyección de R1∙R2 en A.\n",
    "6. Escribe en notación de Zadeh la proyección de R1∘R2 en C."
   ]
  },
  {
   "cell_type": "code",
   "execution_count": 22,
   "id": "82b0f457",
   "metadata": {},
   "outputs": [
    {
     "name": "stdout",
     "output_type": "stream",
     "text": [
      "Dada la matriz R1\n",
      "[[0.8 0.8 0.3]\n",
      " [0.6 0.2 0.9]\n",
      " [0.7 0.7 0.4]\n",
      " [0.8 0.2 0.7]]\n",
      "Dada la matriz R2\n",
      "[[0.1 0.7 0.6 0.2]\n",
      " [1.  0.4 0.7 1. ]\n",
      " [0.5 0.4 0.9 0.9]]\n",
      "La composicion min-max tiene como resultado:\n",
      "[[0.5 0.4 0.8 0.8]\n",
      " [0.6 0.4 0.6 0.6]\n",
      " [0.5 0.4 0.7 0.7]\n",
      " [0.7 0.4 0.7 0.8]]\n",
      "La composicion max-min tiene como resultado:\n",
      "[[0.8 0.7 0.7 0.8]\n",
      " [0.5 0.6 0.9 0.9]\n",
      " [0.7 0.7 0.7 0.7]\n",
      " [0.5 0.7 0.7 0.7]]\n"
     ]
    }
   ],
   "source": [
    "import random\n",
    "import numpy as np\n",
    "\n",
    "def maxmincomposition(X,Y):\n",
    "    C = np.zeros((X.shape[0],Y.shape[1]))\n",
    "    # Iterar a traves de las filas de A\n",
    "    for i in range(len(X)):\n",
    "       # Iterar a traves de las columnas de B\n",
    "       for j in range(len(Y[0])):\n",
    "           # Iterar a traves de las filas de B\n",
    "           for k in range(len(Y)):\n",
    "                if(np.minimum(X[i][k], Y[k][j]) > C[i][j]):\n",
    "                    C[i][j] =  np.minimum(X[i][k], Y[k][j])\n",
    "    return C\n",
    "\n",
    "def minmaxcomposition(X,Y):\n",
    "    C = np.ones((X.shape[0],Y.shape[1]))\n",
    "    # Iterar a traves de las filas de A\n",
    "    for i in range(len(X)):\n",
    "       # Iterar a traves de las columnas de B\n",
    "       for j in range(len(Y[0])):\n",
    "           # Iterar a traves de las filas de B\n",
    "           for k in range(len(Y)):\n",
    "                if(np.maximum(X[i][k], Y[k][j]) < C[i][j]):\n",
    "                    C[i][j] =  np.maximum(X[i][k], Y[k][j])\n",
    "    return C\n",
    "\n",
    "def generaraleatorios(X):\n",
    "    for i,j in np.ndindex(X.shape):\n",
    "            X[i][j] = round(random.uniform(0, 1),1)   \n",
    "    return X\n",
    "\n",
    "R1 = np.zeros((4,3))\n",
    "\n",
    "R1 = generaraleatorios(R1)\n",
    "\n",
    "R2 = np.zeros((3,4))\n",
    "\n",
    "R2 = generaraleatorios(R2)\n",
    "\n",
    "print(\"Dada la matriz R1\")\n",
    "print(R1)\n",
    "print(\"Dada la matriz R2\")\n",
    "print(R2)\n",
    "print(\"La composicion min-max tiene como resultado:\")\n",
    "print(minmaxcomposition(R1,R2))\n",
    "print(\"La composicion max-min tiene como resultado:\")\n",
    "print(maxmincomposition(R1,R2))"
   ]
  },
  {
   "cell_type": "markdown",
   "id": "ece2e333",
   "metadata": {},
   "source": [
    "Dadas las relaciones difusas $R_1$ ∶ $A × B$ → $[0, 1]$ y $R_2$ ∶ $B × C$ → $[0, 1]$. Entonces, la composicion max–min $R = R_1 ∙ R_2$ es una relacion difusa en $A$ y $C$ definido por:\n",
    "\n",
    "$R(a, c) = \\max_{b ∈ B} min[R_1(a, b), R_2(b, c)].$\n",
    "\n",
    "Dadas las relaciones difusas $R_1$ ∶ $A × B$ → $[0, 1]$ y $R_2$ ∶ $B × C$ → $[0, 1]$. Entonces, la composicion max–min $R = R_1 ∘ R_2$ es una relacion difusa en $A$ y $C$ definido por:\n",
    "\n",
    "$R(a, c) = \\min_{b ∈ B} max[R_1(a, b), R_2(b, c)].$"
   ]
  },
  {
   "cell_type": "markdown",
   "id": "5886732b",
   "metadata": {},
   "source": [
    "$Proj_A R_1 ∙ R_2 = sup_{y ∈ B X C} A(x,y)$"
   ]
  },
  {
   "cell_type": "markdown",
   "id": "06f4a584",
   "metadata": {},
   "source": [
    "$Proj_C R_1 ∘ R_2 = sup_{y ∈ A X B} C(x,y)$"
   ]
  }
 ],
 "metadata": {
  "kernelspec": {
   "display_name": "Python 3",
   "language": "python",
   "name": "python3"
  },
  "language_info": {
   "codemirror_mode": {
    "name": "ipython",
    "version": 3
   },
   "file_extension": ".py",
   "mimetype": "text/x-python",
   "name": "python",
   "nbconvert_exporter": "python",
   "pygments_lexer": "ipython3",
   "version": "3.8.8"
  }
 },
 "nbformat": 4,
 "nbformat_minor": 5
}

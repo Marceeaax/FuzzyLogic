{
 "cells": [
  {
   "cell_type": "markdown",
   "id": "e9c84a02",
   "metadata": {},
   "source": [
    "#### Ejercicio 5 \n",
    "\n",
    "Construimos primero el intervalo de la familia de cortes alfa de $A$."
   ]
  },
  {
   "cell_type": "code",
   "execution_count": 11,
   "id": "9f80f07a",
   "metadata": {},
   "outputs": [],
   "source": [
    "x,y=SR.var('x,y')                    #indicamos que x e y son variables\n",
    "ec_izquierda = y==e**(-(x-3)**2/8)  #ecuación de la izquierda\n",
    "ec_izquierda = solve(ec_izquierda,x) #despejamos y\n",
    "ec_derecha = y==e**(-(x-3)**2/32)    #ecuación de la derecha\n",
    "ec_derecha = solve(ec_derecha,x)   #despejamos y"
   ]
  },
  {
   "cell_type": "markdown",
   "id": "5da996fb",
   "metadata": {},
   "source": [
    "Tenemos así que el extremo izquierdo del corte alfa está dado por la siguiente ecuación."
   ]
  },
  {
   "cell_type": "code",
   "execution_count": 24,
   "id": "cfd2c7c6",
   "metadata": {},
   "outputs": [
    {
     "data": {
      "text/plain": [
       "x == -2*sqrt(2)*sqrt(-log(y)) + 3"
      ]
     },
     "execution_count": 24,
     "metadata": {},
     "output_type": "execute_result"
    }
   ],
   "source": [
    "ec_izquierda[0]"
   ]
  },
  {
   "cell_type": "markdown",
   "id": "0117084a",
   "metadata": {},
   "source": [
    "El corte alfa del lado derecho está dado por la siguiente ecuación."
   ]
  },
  {
   "cell_type": "code",
   "execution_count": 27,
   "id": "456ddfba",
   "metadata": {},
   "outputs": [
    {
     "data": {
      "text/plain": [
       "x == 4*sqrt(2)*sqrt(-log(y)) + 3"
      ]
     },
     "execution_count": 27,
     "metadata": {},
     "output_type": "execute_result"
    }
   ],
   "source": [
    "ec_derecha[1]"
   ]
  },
  {
   "cell_type": "markdown",
   "id": "da1d216c",
   "metadata": {},
   "source": [
    "En resumen, tenemos ${}^\\alpha\\! A=[-2\\sqrt{2}*\\sqrt{-\\ln y}+ 3,4\\sqrt{2}*\\sqrt{-\\ln y}+ 3]$."
   ]
  },
  {
   "cell_type": "markdown",
   "id": "bd093bbb",
   "metadata": {},
   "source": [
    "Se puede verificar que el corte alfa calculado es correcto evaluando en distintos valores de alfa. Para $\\alpha=1$ tenemos:"
   ]
  },
  {
   "cell_type": "code",
   "execution_count": 28,
   "id": "713385b5",
   "metadata": {},
   "outputs": [
    {
     "data": {
      "text/plain": [
       "x == 3"
      ]
     },
     "execution_count": 28,
     "metadata": {},
     "output_type": "execute_result"
    }
   ],
   "source": [
    "ec_izquierda[0].subs(y=1)"
   ]
  },
  {
   "cell_type": "code",
   "execution_count": 31,
   "id": "dab26d1c",
   "metadata": {},
   "outputs": [
    {
     "data": {
      "text/plain": [
       "x == 3"
      ]
     },
     "execution_count": 31,
     "metadata": {},
     "output_type": "execute_result"
    }
   ],
   "source": [
    "ec_derecha[1].subs(y=1)"
   ]
  },
  {
   "cell_type": "markdown",
   "id": "9f4ecafe",
   "metadata": {},
   "source": [
    "Esto coincide con el núcleo de $A$ que es 3. Si hacemos $\\alpha=0$ tenemos:"
   ]
  },
  {
   "cell_type": "code",
   "execution_count": 34,
   "id": "4e42f97d",
   "metadata": {
    "scrolled": true
   },
   "outputs": [
    {
     "data": {
      "text/plain": [
       "x == -Infinity"
      ]
     },
     "execution_count": 34,
     "metadata": {},
     "output_type": "execute_result"
    }
   ],
   "source": [
    "ec_izquierda[0].subs(y=0)"
   ]
  },
  {
   "cell_type": "code",
   "execution_count": 36,
   "id": "55487d98",
   "metadata": {},
   "outputs": [
    {
     "data": {
      "text/plain": [
       "x == +Infinity"
      ]
     },
     "execution_count": 36,
     "metadata": {},
     "output_type": "execute_result"
    }
   ],
   "source": [
    "ec_derecha[1].subs(y=0)"
   ]
  },
  {
   "cell_type": "markdown",
   "id": "7a74e6ea",
   "metadata": {},
   "source": [
    "Esto coincide con el soporte de $A$"
   ]
  },
  {
   "cell_type": "markdown",
   "id": "13e82ede",
   "metadata": {},
   "source": [
    "Finalmente construimos el intervalo de la familia de cortes alfa de $B$."
   ]
  },
  {
   "cell_type": "code",
   "execution_count": 21,
   "id": "6e190b57",
   "metadata": {},
   "outputs": [],
   "source": [
    "x,y=SR.var('x,y')                    #indicamos que x e y son variables\n",
    "ec_izquierda1 = y==e**(-(x+2)**2/50)  #ecuación de la izquierda\n",
    "ec_izquierda1 = solve(ec_izquierda1,x) #despejamos y\n",
    "ec_derecha1 = y==e**(-(x+2)**2/8)    #ecuación de la derecha\n",
    "ec_derecha1 = solve(ec_derecha1,x)   #despejamos y"
   ]
  },
  {
   "cell_type": "markdown",
   "id": "2fff3d84",
   "metadata": {},
   "source": [
    "Tenemos así que el extremo izquierdo del corte alfa está dado por la siguiente ecuación."
   ]
  },
  {
   "cell_type": "code",
   "execution_count": 22,
   "id": "963c0b04",
   "metadata": {},
   "outputs": [
    {
     "data": {
      "text/plain": [
       "x == -5*sqrt(2)*sqrt(-log(y)) - 2"
      ]
     },
     "execution_count": 22,
     "metadata": {},
     "output_type": "execute_result"
    }
   ],
   "source": [
    "ec_izquierda1[0]"
   ]
  },
  {
   "cell_type": "markdown",
   "id": "d434f242",
   "metadata": {},
   "source": [
    "El corte alfa del lado derecho está dado por la siguiente ecuación."
   ]
  },
  {
   "cell_type": "code",
   "execution_count": 41,
   "id": "7c1f34d8",
   "metadata": {
    "scrolled": true
   },
   "outputs": [
    {
     "data": {
      "text/plain": [
       "x == 2*sqrt(2)*sqrt(-log(y)) - 2"
      ]
     },
     "execution_count": 41,
     "metadata": {},
     "output_type": "execute_result"
    }
   ],
   "source": [
    "ec_derecha1[1]"
   ]
  },
  {
   "cell_type": "markdown",
   "id": "0f680c72",
   "metadata": {},
   "source": [
    "En resumen, tenemos ${}^\\alpha\\! B=[-5\\sqrt{2}*\\sqrt{-\\ln y}- 2,2\\sqrt{2}*\\sqrt{-\\ln y}-2]$."
   ]
  },
  {
   "cell_type": "markdown",
   "id": "c6c94be4",
   "metadata": {},
   "source": [
    "Se puede verificar que el corte alfa calculado es correcto evaluando en distintos valores de alfa. Para $\\alpha=1$ tenemos:"
   ]
  },
  {
   "cell_type": "code",
   "execution_count": 37,
   "id": "7f401816",
   "metadata": {},
   "outputs": [
    {
     "data": {
      "text/plain": [
       "x == -2"
      ]
     },
     "execution_count": 37,
     "metadata": {},
     "output_type": "execute_result"
    }
   ],
   "source": [
    "ec_izquierda1[0].subs(y=1)"
   ]
  },
  {
   "cell_type": "code",
   "execution_count": 38,
   "id": "b60af7fb",
   "metadata": {},
   "outputs": [
    {
     "data": {
      "text/plain": [
       "x == -2"
      ]
     },
     "execution_count": 38,
     "metadata": {},
     "output_type": "execute_result"
    }
   ],
   "source": [
    "ec_derecha1[1].subs(y=1)"
   ]
  },
  {
   "cell_type": "markdown",
   "id": "f2911da9",
   "metadata": {},
   "source": [
    "Esto coincide con el núcleo de $A$ que es -2. Si hacemos $\\alpha=0$ tenemos:"
   ]
  },
  {
   "cell_type": "code",
   "execution_count": 39,
   "id": "5c15709e",
   "metadata": {
    "scrolled": true
   },
   "outputs": [
    {
     "data": {
      "text/plain": [
       "x == -Infinity"
      ]
     },
     "execution_count": 39,
     "metadata": {},
     "output_type": "execute_result"
    }
   ],
   "source": [
    "ec_izquierda1[0].subs(y=0)"
   ]
  },
  {
   "cell_type": "code",
   "execution_count": 40,
   "id": "ccc28889",
   "metadata": {},
   "outputs": [
    {
     "data": {
      "text/plain": [
       "x == +Infinity"
      ]
     },
     "execution_count": 40,
     "metadata": {},
     "output_type": "execute_result"
    }
   ],
   "source": [
    "ec_derecha1[1].subs(y=0)"
   ]
  },
  {
   "cell_type": "markdown",
   "id": "528519cd",
   "metadata": {},
   "source": [
    "Esto coincide con el soporte de $A$"
   ]
  },
  {
   "cell_type": "markdown",
   "id": "98e83214",
   "metadata": {},
   "source": [
    "Dibujamos ambos conjuntos"
   ]
  },
  {
   "cell_type": "code",
   "execution_count": 16,
   "id": "303e7842",
   "metadata": {},
   "outputs": [
    {
     "data": {
      "image/png": "[encoded data removed]",
      "text/plain": [
       "Graphics object consisting of 2 graphics primitives"
      ]
     },
     "execution_count": 16,
     "metadata": {},
     "output_type": "execute_result"
    }
   ],
   "source": [
    "## Conjunto A\n",
    "\n",
    "f1(x)=e**(-(x-3)**2/8)\n",
    "f2(x)=e**(-(x-3)**2/32)\n",
    "plot(f1,(x,-10,3),legend_label='lado izquierdo')+plot(f2,(x,3,25),color='green',legend_label='lado derecho')"
   ]
  },
  {
   "cell_type": "code",
   "execution_count": 20,
   "id": "7b97815c",
   "metadata": {},
   "outputs": [
    {
     "data": {
      "image/png": "[encoded data removed]",
      "text/plain": [
       "Graphics object consisting of 2 graphics primitives"
      ]
     },
     "execution_count": 20,
     "metadata": {},
     "output_type": "execute_result"
    }
   ],
   "source": [
    "## Conjunto B\n",
    "\n",
    "f1(x)=e**(-(x+2)**2/50)\n",
    "f2(x)=e**(-(x+2)**2/8)\n",
    "plot(f1,(x,-20,-2),legend_label='lado izquierdo')+plot(f2,(x,-2,5),color='red',legend_label='lado derecho')"
   ]
  },
  {
   "cell_type": "markdown",
   "id": "79b89250",
   "metadata": {},
   "source": [
    "Calculamos $ A + B $"
   ]
  },
  {
   "cell_type": "code",
   "execution_count": 43,
   "id": "75bc4599",
   "metadata": {},
   "outputs": [
    {
     "name": "stdout",
     "output_type": "stream",
     "text": [
      "y |--> -7*sqrt(2)*sqrt(-log(y)) + 1 \n",
      " y |--> 6*sqrt(2)*sqrt(-log(y)) + 1\n"
     ]
    }
   ],
   "source": [
    "a1=ec_izquierda[0].right(); a2=ec_derecha[1].right(); b1=ec_izquierda1[0].right(); b2=ec_derecha1[1].right()\n",
    "c1(y)=a1+b1\n",
    "c2(y)=a2+b2\n",
    "c1=c1.full_simplify()\n",
    "c2=c2.full_simplify()\n",
    "print(c1,\"\\n\",c2)"
   ]
  },
  {
   "cell_type": "code",
   "execution_count": 44,
   "id": "f2e4abc0",
   "metadata": {
    "scrolled": true
   },
   "outputs": [
    {
     "data": {
      "image/png": "[encoded data removed]",
      "text/plain": [
       "Graphics object consisting of 2 graphics primitives"
      ]
     },
     "execution_count": 44,
     "metadata": {},
     "output_type": "execute_result"
    }
   ],
   "source": [
    "import numpy as np\n",
    "points=np.linspace(0,1,200)\n",
    "list_plot([(c1(y),y) for y in points],color='red',legend_label='A+B',plotjoined=True)+list_plot([(c2(y),y) for y in points],color='red',plotjoined=True)"
   ]
  },
  {
   "cell_type": "markdown",
   "id": "421a8d87",
   "metadata": {},
   "source": [
    "Calculamos $ A - B $"
   ]
  },
  {
   "cell_type": "code",
   "execution_count": 45,
   "id": "414a1477",
   "metadata": {},
   "outputs": [
    {
     "name": "stdout",
     "output_type": "stream",
     "text": [
      "y |--> -4*sqrt(2)*sqrt(-log(y)) + 5 \n",
      " y |--> 9*sqrt(2)*sqrt(-log(y)) + 5\n"
     ]
    }
   ],
   "source": [
    "a1=ec_izquierda[0].right(); a2=ec_derecha[1].right(); b1=ec_izquierda1[0].right(); b2=ec_derecha1[1].right()\n",
    "c1(y)=a1-b2\n",
    "c2(y)=a2-b1\n",
    "c1=c1.full_simplify()\n",
    "c2=c2.full_simplify()\n",
    "print(c1,\"\\n\",c2)"
   ]
  },
  {
   "cell_type": "code",
   "execution_count": 47,
   "id": "6cbb3f85",
   "metadata": {
    "scrolled": true
   },
   "outputs": [
    {
     "data": {
      "image/png": "[encoded data removed]",
      "text/plain": [
       "Graphics object consisting of 2 graphics primitives"
      ]
     },
     "execution_count": 47,
     "metadata": {},
     "output_type": "execute_result"
    }
   ],
   "source": [
    "import numpy as np\n",
    "points=np.linspace(0,1,200)\n",
    "list_plot([(c1(y),y) for y in points],color='red',legend_label='A-B',plotjoined=True)+list_plot([(c2(y),y) for y in points],color='red',plotjoined=True)"
   ]
  }
 ],
 "metadata": {
  "kernelspec": {
   "display_name": "SageMath 9.3",
   "language": "sage",
   "name": "sagemath"
  },
  "language_info": {
   "codemirror_mode": {
    "name": "ipython",
    "version": 3
   },
   "file_extension": ".py",
   "mimetype": "text/x-python",
   "name": "python",
   "nbconvert_exporter": "python",
   "pygments_lexer": "ipython3",
   "version": "3.8.8"
  }
 },
 "nbformat": 4,
 "nbformat_minor": 5
}

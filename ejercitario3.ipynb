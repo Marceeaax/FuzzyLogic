{
 "cells": [
  {
   "cell_type": "markdown",
   "metadata": {},
   "source": [
    "# __Ejercitario 3__: Relaciones Difusas\n",
    "\n",
    "Responde a las preguntas de abajo utilizando este mismo notebook. Recuerda de seguir las instrucciones de envío que están en la plataforma Educa."
   ]
  },
  {
   "cell_type": "markdown",
   "metadata": {},
   "source": [
    "---\n",
    "**Ejercicio 1.** En el texto de Bede (2013) lee la Definición 3.19 (p.38) de la composición $\\min\\!\\!\\to$ entre dos relaciones $R$ y $S$, denotado $R \\lhd S$, y su operación dual $R\\rhd S$. Demuestra que:\n",
    "\n",
    "1. $(R\\lhd S) = (S^{-1}\\rhd R^{-1})^{-1}$.\n",
    "2. $(R\\rhd S) = (S^{-1} \\lhd R^{-1})^{-1}$."
   ]
  },
  {
   "cell_type": "markdown",
   "metadata": {},
   "source": [
    "\n",
    "**1-**\n",
    "\n",
    "Sea $R$ $\\in$ $\\mathcal{F}$($X$ x $Y$) y $S$ $\\in$ $\\mathcal{F}$($Y$ x $Z$) entonces tenemos que:\n",
    "    \n",
    "$(R\\lhd S)(x,y)$ = $\\bigwedge_ {(y \\in Y)}$ $R(x,y)$ $\\rightarrow$ $S(y,z)$ **.....................................** **(1)**\n",
    "\n",
    "Luego, tenemos que \n",
    "\n",
    " $(S^{-1}\\rhd R^{-1})^{-1}(x,z)$  =  $(S^{-1}\\rhd R^{-1})(z,x)$\n",
    "\n",
    "= $\\bigwedge_ {(y \\in Y)}$   $R^{-1}(y,x)$ $\\rightarrow$ $S^{-1}(z,y)$\n",
    "\n",
    "= $\\bigwedge_ {(y \\in Y)}$   $R(x,y)$ $\\rightarrow$ $S(y,z)$ **...................................................** **(2)**\n",
    "\n",
    "\n",
    "Ya que **(1) = (2)** entonces podemos decir que se cumple :\n",
    "    \n",
    " $(R\\lhd S) = (S^{-1}\\rhd R^{-1})^{-1}$.   \n",
    "\n",
    "\n",
    "**2-**\n",
    "\n",
    "Sea $R$ $\\in$ $\\mathcal{F}$($X$ x $Y$) y $S$ $\\in$ $\\mathcal{F}$($Y$ x $Z$) entonces tenemos que:\n",
    "    \n",
    "$(R\\rhd S)$ =  $\\bigwedge_ {(y \\in Y)}$ $S(y,z)$ $\\rightarrow$ $R(x,y)$  **.....................................** **(1)**\n",
    "\n",
    "\n",
    "Luego, tenemos que \n",
    "\n",
    "$(S^{-1} \\lhd R^{-1})^{-1}(x,z)$ =  $(S^{-1}\\lhd R^{-1})(z,x)$\n",
    "\n",
    "= $\\bigwedge_ {(y \\in Y)}$   $S^{-1}(z,y)$ $\\rightarrow$ $R^{-1}(y,x)$\n",
    "\n",
    "=  $\\bigwedge_ {(y \\in Y)}$ $S(y,z)$ $\\rightarrow$ $R(x,y)$ **...................................................** **(2)**\n",
    "\n",
    "Ya que **(1) = (2)** entonces podemos decir que se cumple :\n",
    "    \n",
    "    \n",
    "$(R\\rhd S) = (S^{-1} \\lhd R^{-1})^{-1}$"
   ]
  },
  {
   "cell_type": "markdown",
   "metadata": {},
   "source": [
    "---\n",
    "**Ejercicio 2.** Escribe una subrutina que tome como entrada dos matrices representando relaciones difusas $R$ y $S$ y retorne (o imprima en pantalla) $R \\lhd S$. Escribe al menos dos ejemplos diferentes que muestren como funciona tu algoritmo. Puedes elegir tu lenguaje de programación favorito para este ejercicio."
   ]
  },
  {
   "cell_type": "markdown",
   "metadata": {},
   "source": [
    "Dadas dos matrices $R$ y $S$ que denotan relacion , las cuales $\\in$ $\\mathcal{F}$($X$ x $Y$) y $S$ $\\in$ $\\mathcal{F}$($Y$ x $Z$) \n",
    "\n",
    "Resolvemos la ecuacion de relacion difusa $R\\lhd S$, de la siguiente forma:\n",
    "\n",
    "Sea Q =  $R\\lhd S$     \n",
    "\n",
    "$$\n",
    "\\left(\\begin{array}{cc} \n",
    "r_1,1 & r_1,2 ... & ... r_1,p\\\\\n",
    ". & . & . \\\\\n",
    "r_j,i & r_j,2... &... r _j,p\\\\    \n",
    ". & . & . \\\\\n",
    "r_n,i & r_n,2... &... r _n,p\\\\        \n",
    "\\end{array}\\right)\n",
    "\\lhd\n",
    "\\left(\\begin{array}{cc} \n",
    "s_1,1 & s_1,2 ... & ... s_1,k\\\\\n",
    ". & . & . \\\\\n",
    "s_j,i & s_j,2... &... s _j,k\\\\    \n",
    ". & . & . \\\\\n",
    "s_p,i & s_p,2... &... s _p,k\\\\ \n",
    "\\end{array}\\right)\n",
    "$$     \n",
    "\n",
    "Donde :\n",
    "    \n",
    "$q_p$  = $$\n",
    "\\left(\\begin{array}{cc} \n",
    "r_1,1 & r_1,2 ... & ... r_1,p\\\\\n",
    "\\end{array}\\right)\n",
    "\\lhd\n",
    "\\left(\\begin{array}{cc} \n",
    "s_1,1\\\\\n",
    ". \\\\\n",
    "s_j,i \\\\\n",
    ". \\\\\n",
    "s_p,i  \\\\     \n",
    "\\end{array}\\right)\n",
    "$$   \n",
    "\n",
    "Y por lo tanto, \n",
    "\n",
    "$q_p$ = $min_{k \\in K}(r_p,k --> s_k,p)$\n",
    "\n",
    "\n",
    "Acontinuacion, computamos Q =  $R\\lhd S$  con dos ejemplos, con los siguientes datos como entradas:\n",
    "\n",
    "###1- \n",
    "$R\\lhd S$ =\n",
    "$$\n",
    "\\left(\\begin{array}{cc} \n",
    "0.3 & 0.2 & 0.4\\\\\n",
    "0.1 & 0.3 & 0.5 \\\\\n",
    "0.5 & 0.4 & 0.6\\\\            \n",
    "\\end{array}\\right)\n",
    "\\lhd\n",
    "\\left(\\begin{array}{cc} \n",
    "0.3 & 0.4 & 0.4\\\\\n",
    "0.3 & 0.5 & 0.5\\\\    \n",
    "0.3 &  0.5 & 0.6\\\\ \n",
    "\\end{array}\\right)\n",
    "=\n",
    "\\left(\\begin{array}{cc} \n",
    " 0.3 & 1 & 1\\\\\n",
    "0.3 & 1 & 1 \\\\    \n",
    "0.3 & 0.4 & 0.4\\\\ \n",
    "\\end{array}\\right)\n",
    "$$     \n",
    "\n",
    "\n",
    "###2 - \n",
    "$R\\lhd S$ =\n",
    "$$\n",
    "\\left(\\begin{array}{cc} \n",
    "0.3 & 0.2 & 0.4\\\\\n",
    "0.1 & 0.3 & 0.5 \\\\\n",
    "0.5 & 0.4 & 0.6\\\\            \n",
    "\\end{array}\\right)\n",
    "\\lhd\n",
    "\\left(\\begin{array}{cc} \n",
    "0.3 & 0.4 & 0.4\\\\\n",
    "0.3 & 0.5 & 0.5\\\\    \n",
    "0.3 &  0.5 & 0.6\\\\ \n",
    "\\end{array}\\right)\n",
    "=\n",
    "\\left(\\begin{array}{cc} \n",
    " 1 & 1 & 1\\\\\n",
    "1 & 1 & 1 \\\\    \n",
    "0.5 & 0.5 & 1\\\\ \n",
    "\\end{array}\\right)\n",
    "$$     "
   ]
  },
  {
   "cell_type": "code",
   "execution_count": 1,
   "metadata": {},
   "outputs": [
    {
     "name": "stdout",
     "output_type": "stream",
     "text": [
      "Ejemplo 1\n",
      "El resultado es:\n",
      " \n",
      "0.3 1 1  \n",
      "0.3 1 1  \n",
      "0.3 0.4 0.4  \n",
      "Ejemplo 2\n",
      "El resultado es:\n",
      " \n",
      "1 1 1  \n",
      "1 1 1  \n",
      "0.5 0.5 1  \n"
     ]
    }
   ],
   "source": [
    "\n",
    "def min_composition(A,B):\n",
    "    if (A <= B):\n",
    "        return 1\n",
    "    return B\n",
    "\n",
    "def Calcular_MinCompistion (R, S):\n",
    "    inf = float('inf')\n",
    "    C = [[inf, inf, inf],\n",
    "         [inf, inf, inf],\n",
    "         [inf, inf, inf]]\n",
    "\n",
    "    p = len(R)\n",
    "    n = len(R[0])\n",
    "    q = len(S[0])\n",
    "\n",
    "    for i in range(p):\n",
    "        for j in range(q):\n",
    "            for k in range(n):\n",
    "                C[i][j]=min(C[i][j],min_composition(R[i][k],S[k][j]))\n",
    "\n",
    "\n",
    "    print(\"El resultado es:\")\n",
    "    for i in range(len(C)):\n",
    "        print(\" \")\n",
    "        for j in range(len(C[0])):\n",
    "            print(C[i][j], end=\" \")\n",
    "\n",
    "    print(\" \")\n",
    "\n",
    "\n",
    "\n",
    "R = [[0.3, 0.2, 0.4],\n",
    "        [0.1, 0.3, 0.5],\n",
    "        [0.5, 0.4, 0.6]]\n",
    "\n",
    "S = [[0.3, 0.4, 0.4],\n",
    "        [0.3, 0.5, 0.5],\n",
    "        [0.3, 0.5, 0.6]]\n",
    "\n",
    "\n",
    "\n",
    "\n",
    "\n",
    "\n",
    "print(\"Ejemplo 1\")\n",
    "Calcular_MinCompistion(R,S)\n",
    "\n",
    "R = [[0.3, 0.2, 0.4],\n",
    "        [0.1, 0.3, 0.5],\n",
    "        [0.5, 0.4, 0.6]]\n",
    "\n",
    "S = [[0.5, 0.5, 0.5],\n",
    "        [0.4, 0.4, 0.4],\n",
    "        [0.5, 0.5, 0.6]]\n",
    "\n",
    "\n",
    "print(\"Ejemplo 2\")\n",
    "Calcular_MinCompistion(R,S)"
   ]
  },
  {
   "cell_type": "markdown",
   "metadata": {},
   "source": [
    "---\n",
    "**Ejercicio 3.** Escribe una subrutina que tome como entrada dos matrices representando relaciones difusas $R$ y $S$ y retorne (o imprima en pantalla) $R\\rhd S$. Escribe al menos dos ejemplos diferentes que muestren como funciona tu algoritmo. Puedes elegir tu lenguaje de programación favorito para este ejercicio."
   ]
  },
  {
   "cell_type": "markdown",
   "metadata": {},
   "source": [
    "Dadas dos matrices $R$ y $S$ que denotan relacion , las cuales $\\in$ $\\mathcal{F}$($X$ x $Y$) y $S$ $\\in$ $\\mathcal{F}$($Y$ x $Z$) \n",
    "\n",
    "Resolvemos la ecuacion de relacion difusa $R\\rhd S$, de la siguiente forma:\n",
    "\n",
    "Sea Q =  $R\\rhd S$     \n",
    "\n",
    "$$\n",
    "\\left(\\begin{array}{cc} \n",
    "r_1,1 & r_1,2 ... & ... r_1,p\\\\\n",
    ". & . & . \\\\\n",
    "r_j,i & r_j,2... &... r _j,p\\\\    \n",
    ". & . & . \\\\\n",
    "r_n,i & r_n,2... &... r _n,p\\\\        \n",
    "\\end{array}\\right)\n",
    "\\rhd\n",
    "\\left(\\begin{array}{cc} \n",
    "s_1,1 & s_1,2 ... & ... s_1,k\\\\\n",
    ". & . & . \\\\\n",
    "s_j,i & s_j,2... &... s _j,k\\\\    \n",
    ". & . & . \\\\\n",
    "s_p,i & s_p,2... &... s _p,k\\\\ \n",
    "\\end{array}\\right)\n",
    "$$     \n",
    "\n",
    "Donde :\n",
    "    \n",
    "$q_p$  = $$\n",
    "\\left(\\begin{array}{cc} \n",
    "r_1,1 & r_1,2 ... & ... r_1,p\\\\\n",
    "\\end{array}\\right)\n",
    "\\rhd\n",
    "\\left(\\begin{array}{cc} \n",
    "s_1,1\\\\\n",
    ". \\\\\n",
    "s_j,i \\\\\n",
    ". \\\\\n",
    "s_p,i  \\\\     \n",
    "\\end{array}\\right)\n",
    "$$   \n",
    "\n",
    "Y por lo tanto, \n",
    "\n",
    "$q_p$ = $min_{k \\in K}(s_k,p--> r_p,k )$\n",
    "\n",
    "\n",
    "Acontinuacion, computamos Q =  $R\\rhd S$  con dos ejemplos, con los siguientes datos como entradas:\n",
    "\n",
    "    \n",
    "###1- \n",
    "$R\\lhd S$ =\n",
    "$$\n",
    "\\left(\\begin{array}{cc} \n",
    "0.3 & 0.2 & 0.4\\\\\n",
    "0.1 & 0.3 & 0.5 \\\\\n",
    "0.5 & 0.4 & 0.6\\\\            \n",
    "\\end{array}\\right)\n",
    "\\rhd\n",
    "\\left(\\begin{array}{cc} \n",
    "0.3 & 0.4 & 0.4\\\\\n",
    "0.3 & 0.5 & 0.5\\\\    \n",
    "0.3 &  0.5 & 0.6\\\\ \n",
    "\\end{array}\\right)\n",
    "=\n",
    "\\left(\\begin{array}{cc} \n",
    " 0.2 & 0.2 & 0.2\\\\\n",
    "0.1 & 0.1 & 0.1 \\\\    \n",
    "1 & 0.4 & 0.4\\\\ \n",
    "\\end{array}\\right)\n",
    "$$     \n",
    "\n",
    "\n",
    "###2 - \n",
    "$R\\lhd S$ =\n",
    "$$\n",
    "\\left(\\begin{array}{cc} \n",
    "0.3 & 0.2 & 0.4\\\\\n",
    "0.1 & 0.3 & 0.5 \\\\\n",
    "0.5 & 0.4 & 0.6\\\\            \n",
    "\\end{array}\\right)\n",
    "\\rhd\n",
    "\\left(\\begin{array}{cc} \n",
    "0.3 & 0.4 & 0.4\\\\\n",
    "0.3 & 0.5 & 0.5\\\\    \n",
    "0.3 &  0.5 & 0.6\\\\ \n",
    "\\end{array}\\right)\n",
    "=\n",
    "\\left(\\begin{array}{cc} \n",
    " 0.2 & 0.2 & 0.2\\\\\n",
    "0.1 & 0.1 & 0.1 \\\\    \n",
    "1 & 1 & 1\\\\ \n",
    "\\end{array}\\right)\n",
    "$$     "
   ]
  },
  {
   "cell_type": "code",
   "execution_count": 1,
   "metadata": {},
   "outputs": [
    {
     "name": "stdout",
     "output_type": "stream",
     "text": [
      "Ejemplo 1\n",
      "El resultado es:\n",
      " \n",
      "0.2 0.2 0.2  \n",
      "0.1 0.1 0.1  \n",
      "1 0.4 0.4  \n",
      "Ejemplo 2\n",
      "El resultado es:\n",
      " \n",
      "0.2 0.2 0.2  \n",
      "0.1 0.1 0.1  \n",
      "1 1 1  \n"
     ]
    }
   ],
   "source": [
    "def supercomposition(A,B):\n",
    "    if B <= A:\n",
    "        return 1\n",
    "    return A\n",
    "\n",
    "def Calcular_SuperCompistion (R, S):\n",
    "    inf = float('inf')\n",
    "    C = [[inf, inf, inf],\n",
    "         [inf, inf, inf],\n",
    "         [inf, inf, inf]]\n",
    "\n",
    "    p = len(R)\n",
    "    n = len(R[0])\n",
    "    q = len(S[0])\n",
    "\n",
    "    for i in range(p):\n",
    "        for j in range(q):\n",
    "            for k in range(n):\n",
    "                C[i][j]=min(C[i][j],supercomposition(R[i][k],S[k][j]))\n",
    "\n",
    "\n",
    "    print(\"El resultado es:\")\n",
    "    for i in range(len(C)):\n",
    "        print(\" \")\n",
    "        for j in range(len(C[0])):\n",
    "            print(C[i][j], end=\" \")\n",
    "\n",
    "    print(\" \")\n",
    "\n",
    "\n",
    "\n",
    "R =     [[0.3, 0.2, 0.4],\n",
    "        [0.1, 0.3, 0.5],\n",
    "        [0.5, 0.4, 0.6]]\n",
    "\n",
    "S =    [[0.3, 0.4, 0.4],\n",
    "        [0.3, 0.5, 0.5],\n",
    "        [0.3, 0.5, 0.6]]\n",
    "\n",
    "\n",
    "\n",
    "\n",
    "\n",
    "\n",
    "print(\"Ejemplo 1\")\n",
    "Calcular_SuperCompistion(R,S)\n",
    "\n",
    "R = [[0.3, 0.2, 0.4],\n",
    "        [0.1, 0.3, 0.5],\n",
    "        [0.5, 0.4, 0.6]]\n",
    "\n",
    "S = [[0.5, 0.5, 0.5],\n",
    "        [0.4, 0.4, 0.4],\n",
    "        [0.5, 0.5, 0.6]]\n",
    "\n",
    "\n",
    "print(\"Ejemplo 2\")\n",
    "Calcular_SuperCompistion(R,S)"
   ]
  },
  {
   "cell_type": "markdown",
   "metadata": {},
   "source": [
    "---\n",
    "**Ejercicio 4.** Sean $R:X\\times Y\\to [0,1]$, $P:Y\\times Z\\to [0,1]$ y $Q:X\\times Z\\to[0,1]$ relaciones difusas. Demuestra que $(P\\lhd Q^{-1})^{-1}\\circ P\\subseteq Q$."
   ]
  },
  {
   "cell_type": "markdown",
   "metadata": {},
   "source": [
    " Sean $R:X\\times Y\\to [0,1]$, $P:Y\\times Z\\to [0,1]$ y $Q:X\\times Z\\to[0,1]$ relaciones difusas. Entonces la expresion:\n",
    "\n",
    "$(P\\lhd Q^{-1})^{-1}\\circ P\\subseteq Q$    =  $(P\\lhd Q^{-1})^{-1}\\circ P\\leq Q$\n",
    "\n",
    "Entonces $(P\\lhd Q^{-1})^{-1}\\circ P$  = $\\bigvee_{(y \\in Y)}(P\\lhd Q^{-1})^{-1}(x,y)$ $\\wedge$ $P(y,z)$\n",
    "\n",
    "=$\\bigvee_{(y \\in Y)}(P\\lhd Q^{-1})(y,x)$ $\\wedge$ $P(y,z)$\n",
    "\n",
    "=$\\bigvee_{(y \\in Y)} [\\bigwedge_{z \\in Z}P(y,z)----> Q^{-1}(z,x)]$ $\\wedge$ $P(y,z)$\n",
    "\n",
    "=$\\bigvee_{(y \\in Y)} [\\bigwedge_{z \\in Z}P(y,z)----> Q(x,z)]$ $\\wedge$ $P(y,z)$\n",
    "\n",
    "> **Proposicion 3.18** (Libro de Bede): $x$  $\\wedge$ ($x$ $-->$ $y$) $\\leq$ $y$\n",
    "\n",
    "> **Prueba:**\n",
    "    \n",
    ">**Caso 1:** Si  $x$ $\\leq$ $y$ luego  $x$ $\\wedge$ $1$ = $x$, pero $x$ $\\leq$ $y$, entonces se cumple que $x$  $\\wedge$ ($x$ $-->$ $y$) $\\leq$ $y$\n",
    "    \n",
    ">**Caso 2:** Si  $x$ $>$ $y$ luego   $x$ $\\wedge$ $y$ = $y$  Por lo tanto, se cumple $x$  $\\wedge$ ($x$ $-->$ $y$) $\\leq$ $y$\n",
    "    \n",
    "Utilizando la proposicion 3.18 tenemos que:\n",
    "    \n",
    "=$\\bigvee_{(y \\in Y)} [\\bigwedge_{z \\in Z}P(y,z)----> Q(x,z)]$ $\\wedge$ $P(y,z)$  $\\leq$ $\\bigwedge_{z \\in Z}Q(x,z)$ = $Q(x,z)$\n",
    "\n",
    "Por lo tanto, se cumple que $(P\\lhd Q^{-1})^{-1}\\circ P\\subseteq Q$\n",
    "    \n",
    "\n",
    "\n",
    "\n",
    "\n",
    "\n",
    "\n",
    "\n",
    "                    "
   ]
  },
  {
   "cell_type": "markdown",
   "metadata": {},
   "source": [
    "---\n",
    "**Ejercicio 5.** Implementa el algoritmo de la $*$-clausura transitiva de la página 83 del libro de Syropoulos & Grammenos (2020). Modifica el algoritmo para que utilice la composición $\\min\\!\\!\\to$. Tu algoritmo debe de tomar como entrada una matriz que represente una relación difusa y retornar otra matriz que represente la $*$-clausura transitiva. Escribe al menos dos ejemplos diferentes que muestren como funciona tu algoritmo. Puedes elegir tu lenguaje de programación favorito para este ejercicio."
   ]
  },
  {
   "cell_type": "markdown",
   "metadata": {},
   "source": [
    "Sea el conjunto $A$ = $\\{1,2,3,4,5,6\\}$ tenemos las siguientes relaciones \n",
    "\n",
    "$R$: $A$ $x$ $A$ --> $[0,1]$\n",
    "\n",
    "\n",
    "$S$: $A$ $x$ $A$ --> $[0,1]$\n",
    "\n",
    "\n",
    "$card(A)$ = $k$\n",
    "\n",
    "Por lo tanto, \n",
    "\n",
    "Calcular $R^{+}$ = $R^{1}\\cup R^{2}$ $...........$ $\\cup$ $R^{k}$\n",
    "\n",
    "\n",
    "$S^{+}$ = $S^{1}\\cup S^{2}$ $...........$ $\\cup$ $S^{k}$\n"
   ]
  },
  {
   "cell_type": "code",
   "execution_count": 3,
   "metadata": {},
   "outputs": [
    {
     "name": "stdout",
     "output_type": "stream",
     "text": [
      "Ejemplo 1\n",
      "El resultado es:\n",
      " \n",
      "1 1 1 1 1 1  \n",
      "1 1 1 1 1 1  \n",
      "1 1 1 1 1 1  \n",
      "1 1 1 1 1 1  \n",
      "1 1 1 1 1 1  \n",
      "1 1 1 1 1 1  \n",
      " \n",
      "Ejemplo 2\n",
      "El resultado es:\n",
      " \n",
      "1 1 1 1 1 1  \n",
      "1 1 1 1 1 1  \n",
      "1 1 1 1 1 1  \n",
      "1 1 1 1 1 1  \n",
      "1 1 1 1 1 1  \n",
      "1 1 1 1 1 1 "
     ]
    }
   ],
   "source": [
    "def min_composition(A,B):\n",
    "    if (A <= B):\n",
    "        return 1\n",
    "    return B\n",
    "\n",
    "def Calcular_MinCompistion (R,k):\n",
    "    \n",
    "    n = len(R)\n",
    "  \n",
    "                    \n",
    "    for i in range(n):\n",
    "        for j in range(n):\n",
    "            for k in range(n):\n",
    "                R[j][k] = max(R[j][k], min_composition(R[j][i],R[i][k]))                \n",
    "           \n",
    "    print(\"El resultado es:\")\n",
    "    for i in range(len(R)):\n",
    "        print(\" \")\n",
    "        for j in range(len(R[0])):\n",
    "            print(R[i][j], end=\" \")  \n",
    "        \n",
    "        \n",
    "                \n",
    "R = [[1, 0.7 , 0.2 , 0.9 , 0.9 , 0],\n",
    "    [0.1 , 0.8 , 0.5 , 0.7 , 0 , 0.2],\n",
    "    [1 , 0 , 1 , 0.6 , 0.2 , 0],\n",
    "    [0 , 0.2 , 0 , 1 , 0.2 , 0.8],\n",
    "    [0.2 , 0.8 , 0.2 , 0 , 1 , 0.2],\n",
    "    [0 , 0.2 , 0.6 , 0.8 , 0.2 , 1]]\n",
    "\n",
    "\n",
    "\n",
    "S = [[0, 0.6 , 0.2 , 0.4 , 0.7 , 0.3],\n",
    "    [0.2 , 1 , 0.4 , 0 , 0.8 , 0.1],\n",
    "    [1 , 0 , 0.9 , 0 , 0.2 , 0],\n",
    "    [0 , 0.1 , 0.6 , 0 , 0.3 , 0.8],\n",
    "    [0.4 , 0.9 , 0.3 , 0 , 1 , 0.2],\n",
    "    [0 , 0.8 , 0.2 , 0 , 0.3 , 1]]\n",
    "                \n",
    "k = 6\n",
    "\n",
    "print(\"Ejemplo 1\")\n",
    "Calcular_MinCompistion(R,k)\n",
    "print(\" \")\n",
    "print(\" \")\n",
    "print(\"Ejemplo 2\")\n",
    "Calcular_MinCompistion(S,k)"
   ]
  },
  {
   "cell_type": "markdown",
   "metadata": {},
   "source": [
    "---\n",
    "**Ejercicio 6.** Implementa una subrutina que toma como entrada una matriz que represente una relación difusa y retorna 1 si la matriz es una relación de similaridad y retorna 0 si no es una relación de similaridad. Escribe al menos dos ejemplos diferentes que muestren como funciona tu algoritmo. Puedes elegir tu lenguaje de programación favorito para este ejercicio."
   ]
  },
  {
   "cell_type": "code",
   "execution_count": 63,
   "metadata": {},
   "outputs": [
    {
     "name": "stdout",
     "output_type": "stream",
     "text": [
      "1\n",
      "0\n"
     ]
    }
   ],
   "source": [
    "def reflexive(X):\n",
    "    firstvalue = X[0][0]\n",
    "    if(firstvalue != 1):\n",
    "        return False\n",
    "    else:\n",
    "        for i in range(1,len(X)):\n",
    "            if(X[i][i] != firstvalue):\n",
    "                return False\n",
    "        return True\n",
    "\n",
    "def symmetric(X):\n",
    "    for i in range(len(X)):\n",
    "        for j in range(len(X)):\n",
    "            if (X[i][j] != X[j][i]):\n",
    "                return False\n",
    "    return True\n",
    "\n",
    "def transitive(X):\n",
    "    for i in range(len(X)):\n",
    "        for j in range(len(X)):\n",
    "            for k in range(len(X)):\n",
    "                if (X[j][k] < max(X[j][k],min(X[j][i],X[i][k]))):\n",
    "                    return False\n",
    "    return True\n",
    "\n",
    "def similarityrelation(X):\n",
    "    if(reflexive(X) and symmetric(X) and transitive(X) == True):\n",
    "        return 1\n",
    "    return 0\n",
    "\n",
    "R = [[1,1,1],\n",
    "        [1,1,1],\n",
    "        [1,1,1]]\n",
    "\n",
    "S = [[0,1,1],\n",
    "        [1,0.5,1],\n",
    "        [1,1,1]]\n",
    "\n",
    "print(similarityrelation(R))\n",
    "print(similarityrelation(S))"
   ]
  },
  {
   "cell_type": "markdown",
   "metadata": {},
   "source": [
    "---\n",
    "**Ejercicio 7.** Implementa una subrutina que toma como entrada una matriz que represente una relación difusa y retorna 1 si la matriz es una relación de proximidad y retorna 0 si no es una relación de proximidad. Escribe al menos dos ejemplos diferentes que muestren como funciona tu algoritmo. Puedes elegir tu lenguaje de programación favorito para este ejercicio."
   ]
  },
  {
   "cell_type": "code",
   "execution_count": 51,
   "metadata": {},
   "outputs": [
    {
     "name": "stdout",
     "output_type": "stream",
     "text": [
      "1\n",
      "0\n"
     ]
    }
   ],
   "source": [
    "def proximityrelation(X):\n",
    "    if(reflexive(X) and symmetric(X) == True):\n",
    "        return 1\n",
    "    return 0\n",
    "\n",
    "R = [[1, 0.2 , 1 , 0.6 , 0.2 , 0.6],\n",
    "    [0.2 , 1 , 0.2 , 0.2 , 0.8 , 0.2],\n",
    "    [1 , 0.2 , 1 , 0.6 , 0.2 , 0.6],\n",
    "    [0.6 , 0.2 , 0.6 , 1 , 0.2 , 0.8],\n",
    "    [0.2 , 0.8 , 0.2 , 0.2 , 1 , 0.2],\n",
    "    [0.6 , 0.2 , 0.6 , 0.8 , 0.2 , 1]]\n",
    "\n",
    "S = [[0, 0.2 , 1 , 0.6 , 0.2 , 0.6],\n",
    "    [0.2 , 1 , 0.2 , 0.2 , 0.8 , 0.2],\n",
    "    [1 , 0.2 , 1 , 0.6 , 0.2 , 0.6],\n",
    "    [0.6 , 0.2 , 0.6 , 1 , 0.2 , 0.8],\n",
    "    [0.2 , 0.8 , 0.2 , 0.2 , 1 , 0.2],\n",
    "    [0.6 , 0.2 , 0.6 , 0.8 , 0.2 , 1]]\n",
    "\n",
    "print(proximityrelation(R))\n",
    "\n",
    "print(proximityrelation(S))\n"
   ]
  },
  {
   "cell_type": "markdown",
   "metadata": {},
   "source": [
    "---\n",
    "**Ejercicio 8.** Construye un ejemplo concreto de una relación difusa $R:A\\times A\\to[0,1]$ infinita que sea reflexiva, simétrica pero no sea transitiva."
   ]
  },
  {
   "cell_type": "markdown",
   "metadata": {},
   "source": [
    "$$A = \\begin{pmatrix}1 & 0.6 & 0.2 & 0.7\\\\\n",
    "0.6 & 1 & 0.8 & 0.6\\\\\n",
    "0.2 & 0.8 & 1 & 0.1\\\\\n",
    "0.7 & 0.6 & 0.1 & 1\n",
    "\\end{pmatrix}$$"
   ]
  },
  {
   "cell_type": "code",
   "execution_count": 60,
   "metadata": {},
   "outputs": [
    {
     "name": "stdout",
     "output_type": "stream",
     "text": [
      "True\n"
     ]
    }
   ],
   "source": [
    "A = [[1, 0.6, 0.2, 0.7], [0.6, 1, 0.8, 0.6], [0.2, 0.8, 1, 0.1], [0.7, 0.6, 0.1, 1]]\n",
    "\n",
    "if(reflexive(A) and symmetric(A) and not(transitive(A)) == True):\n",
    "    print(True)"
   ]
  },
  {
   "cell_type": "markdown",
   "metadata": {},
   "source": [
    "---\n",
    "**Ejercicio 9.** Construye un ejemplo concreto de una relación difusa $R:A\\times A\\to[0,1]$ infinita que sea simétrica, transitiva pero no sea reflexiva."
   ]
  },
  {
   "cell_type": "markdown",
   "metadata": {},
   "source": [
    "$$A = \\begin{pmatrix}0.4 & 0.1 & 0.3\\\\\n",
    "0.1 & 0.4 & 0.1\\\\\n",
    "0.3 & 0.1 & 0.7\\\\\n",
    "\\end{pmatrix}$$"
   ]
  },
  {
   "cell_type": "code",
   "execution_count": 61,
   "metadata": {},
   "outputs": [
    {
     "name": "stdout",
     "output_type": "stream",
     "text": [
      "True\n"
     ]
    }
   ],
   "source": [
    "A = [[0.4, 0.1, 0.3], [0.1, 0.4, 0.1], [0.3, 0.1, 0.7]]\n",
    "\n",
    "if(not(reflexive(A)) and symmetric(A) and transitive(A) == True):\n",
    "    print(True)"
   ]
  },
  {
   "cell_type": "markdown",
   "metadata": {},
   "source": [
    "---\n",
    "**Ejercicio 10.** Construye un ejemplo concreto de una relación difusa $R:A\\times A\\to[0,1]$ infinita que sea reflexiva, transitiva pero no sea simétrica."
   ]
  },
  {
   "cell_type": "markdown",
   "metadata": {},
   "source": [
    "$$A = \\begin{pmatrix}1 & 0.1 & 0.1 & 0.1\\\\\n",
    "0.7 & 1 & 0.2 & 0.6\\\\\n",
    "0.1 & 0.1 & 1 & 0.1\\\\\n",
    "0.3 & 0.3 & 0.2 & 1\n",
    "\\end{pmatrix}$$"
   ]
  },
  {
   "cell_type": "code",
   "execution_count": 62,
   "metadata": {},
   "outputs": [
    {
     "name": "stdout",
     "output_type": "stream",
     "text": [
      "True\n"
     ]
    }
   ],
   "source": [
    "A = [[1, 0.1, 0.1, 0.1], [0.7, 1, 0.2, 0.6], [0.1, 0.1, 1, 0.1], [0.3, 0.3, 0.2, 1]]\n",
    "\n",
    "if(reflexive(A) and not(symmetric(A)) and transitive(A) == True):\n",
    "    print(True)"
   ]
  },
  {
   "cell_type": "markdown",
   "metadata": {},
   "source": [
    "Las matrices fueron construidas con el siguiente codigo: https://gist.github.com/Marceeaax/b4bf3bea1b21b7e70049752ac5a33d4f"
   ]
  }
 ],
 "metadata": {
  "kernelspec": {
   "display_name": "Python 3",
   "language": "python",
   "name": "python3"
  },
  "language_info": {
   "codemirror_mode": {
    "name": "ipython",
    "version": 3
   },
   "file_extension": ".py",
   "mimetype": "text/x-python",
   "name": "python",
   "nbconvert_exporter": "python",
   "pygments_lexer": "ipython3",
   "version": "3.7.7"
  }
 },
 "nbformat": 4,
 "nbformat_minor": 4
}

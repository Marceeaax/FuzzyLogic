{
 "cells": [
  {
   "cell_type": "markdown",
   "metadata": {},
   "source": [
    "# __Ejercitario 2__: Números Difusos y su Aritmética\n",
    "\n",
    "Responde a las preguntas de abajo utilizando este mismo notebook. Recuerda de seguir las instrucciones de envío que están en la plataforma Educa."
   ]
  },
  {
   "cell_type": "markdown",
   "metadata": {},
   "source": [
    "---\n",
    "**Ejercicio 1.** Escribe una expresión para la función de membresía y los cortes alfa en forma intervalar para un número difuso triangular $\\text{tfn}(\\bar x,e_1,e_2)$. Utiliza este resultado para:\n",
    "\n",
    "1. Calcular los cortes alfa en forma intervalar del número $\\text{tfn}(2,4,5)$.\n",
    "2. Calcular la función de membresía del número $\\text{tfn}(2,4,5)$.\n",
    "3. Presenta un dibujo de $\\text{tfn}(2,4,5)$."
   ]
  },
  {
   "cell_type": "markdown",
   "metadata": {},
   "source": [
    "Para un numero difuso triangular, la funcion de membresia $A(x)$ puede ser escrita como una funcion a trozos:\n",
    "\n",
    "$$A(x)=\\left\\{ \\begin{array}{ll}\n",
    "0   & \\text{ si } x \\leq \\overline x - e_1\\\\ \n",
    "1 + (x - \\overline x)/e_1  & \\text{ si } \\overline x - e_1 < x < \\overline x \\\\\n",
    "1 - (x - \\overline x)/e_2  & \\text{ si } \\overline x \\leq x < \\overline x + e_2\\\\\n",
    "0   & \\text{ si } x \\geq \\overline x + e_2,\n",
    "\\end{array}\\right.\n",
    "$$\n",
    "\n",
    "Para determinar los 𝛼-cuts, se igualan las funciones al corte alfa y se despejan las $x$\n",
    "\n",
    "$$\n",
    "1 + (x - \\overline x)/e_1 = 𝛼\\\\\n",
    "x = (𝛼 - 1)e_1 + \\overline x\\\\\n",
    "x = (1 - 𝛼)e_2 + \\overline x\n",
    "$$\n",
    "\n",
    "\n",
    "$^{𝛼}A =\\{x|(𝛼 - 1)e_1 + \\overline x \\leq x \\leq (1 - 𝛼)e_2 + \\overline x\\}$\n"
   ]
  },
  {
   "cell_type": "markdown",
   "metadata": {},
   "source": [
    "1.\n",
    "\n",
    "$^{𝛼}\\text{tfn}(2,4,5) = [(𝛼 - 1)4 + 2, (1 - 𝛼)5 + 2]$\n",
    "\n",
    "$^{𝛼}\\text{tfn}(2,4,5) = [4𝛼 - 2,7 - 5𝛼]$ "
   ]
  },
  {
   "cell_type": "markdown",
   "metadata": {},
   "source": [
    "2.\n",
    "\n",
    "$$A(x)=\\left\\{ \\begin{array}{ll}\n",
    "0   & \\text{ si } x \\leq -2\\\\ \n",
    "\\frac{x+2}{4}  & \\text{ si } -2 < x < 2 \\\\\n",
    "\\frac{7-x}{5}  & \\text{ si } 2 \\leq x < 7\\\\\n",
    "0   & \\text{ si } x \\geq 7,\n",
    "\\end{array}\\right.\n",
    "$$              "
   ]
  },
  {
   "cell_type": "code",
   "execution_count": 4,
   "metadata": {},
   "outputs": [
    {
     "data": {
      "image/png": "[encoded data removed]",
      "text/plain": [
       "<Figure size 432x288 with 1 Axes>"
      ]
     },
     "metadata": {},
     "output_type": "display_data"
    }
   ],
   "source": [
    "from matplotlib import pyplot as plt\n",
    "\n",
    "plt.style.use('ggplot')\n",
    "\n",
    "\n",
    "x = [-3,-2,2,7,8]\n",
    "\n",
    "y = [0,0,1,0,0]\n",
    "\n",
    "plt.plot(x, y)\n",
    "\n",
    "# eje x \n",
    "plt.xlabel('X')\n",
    "# eje y\n",
    "plt.ylabel('μ(x)')\n",
    "# titulo del grafico\n",
    "plt.title('tfn(2,4,5)')\n",
    "\n",
    "plt.show()"
   ]
  },
  {
   "cell_type": "markdown",
   "metadata": {},
   "source": [
    "---\n",
    "**Ejercicio 2.** Dado el número difuso exponencial $A=\\text{efn}(2,0.5,1,0.4)$.\n",
    "\n",
    "1. Escribe su función de membresía.\n",
    "2. Encuentra una expresión intervalar para los cortes alfa.\n",
    "3. Encuentra una expresión intervalar para los cortes alfa de $A^2$.\n",
    "4. Dibuja $A$ y $A^2$ en una misma gráfica para compararlos."
   ]
  },
  {
   "cell_type": "markdown",
   "metadata": {},
   "source": [
    "1.\n",
    "\n",
    "$$A(x)=\\left\\{ \\begin{array}{ll}\n",
    "0   & \\text{ si } x < 1.8\\\\ \n",
    "e^{2x-4}  & \\text{ si } 1.8 \\leq x < 2 \\\\\n",
    "e^{2-x} & \\text{ si } 2 \\leq x < 2.4\\\\\n",
    "0   & \\text{ si } 2.4 \\leq x,\n",
    "\\end{array}\\right.\n",
    "$$"
   ]
  },
  {
   "cell_type": "markdown",
   "metadata": {},
   "source": [
    "2.\n",
    "\n",
    "$$\n",
    "e^{2x-4} = 𝛼 \\\\\n",
    "\\ln e^{2x-4} = \\ln{𝛼} \\\\\n",
    "2x-4 = \\ln{𝛼} \\\\\n",
    "x = \\frac{\\ln{𝛼}+4}{2} \\\\\n",
    "x = \\frac{\\ln 𝛼}{2} + 2 \\\\\n",
    "x = \\ln \\sqrt α + 2\\\\\n",
    "$$\n",
    "\n",
    "$$\n",
    "e^{2-x} = 𝛼\\\\\n",
    "\\ln e^{2-x} = \\ln{𝛼} \\\\\n",
    "2-x = \\ln{𝛼} \\\\\n",
    "x = 2 - \\ln{𝛼}\n",
    "$$\n",
    "\n",
    "$^{𝛼}\\text{efn}(2,0.5,1,0.4) = [\\ln \\sqrt α + 2,2 - \\ln{𝛼}]$ "
   ]
  },
  {
   "cell_type": "markdown",
   "metadata": {},
   "source": [
    "3.\n",
    "\n",
    "Para encontrar $A^2$, se utiliza la multiplicacion de intervalos cerrados:\n",
    "\n",
    "$[a, b] ⋅ [d, e] = [min(ad, ae, bd, be), max(ad, ae, bd, be)],$\n",
    "\n",
    "$[a,b] ⋅ [a,b] = [min(aa, ab, bb), max(aa, ab, bb)],$\n",
    "\n",
    "$[\\ln \\sqrt α + 2,2 - \\ln{𝛼}] ⋅ [\\ln \\sqrt α + 2,2 - \\ln{𝛼}] = [min((\\ln \\sqrt α + 2)^2, (\\ln \\sqrt α + 2)(2 - \\ln{𝛼}), (2 - \\ln{𝛼})^2), max((\\ln \\sqrt α + 2)^2, (\\ln \\sqrt α + 2)(2 - \\ln{𝛼}), (2 - \\ln{𝛼})^2)]$\n",
    "\n",
    "$^{𝛼}A^2 = [(\\ln \\sqrt α + 2)^2,(2 - \\ln{𝛼})^2]$\n",
    "\n",
    "Se determino el calculo con ayuda de GeoGebra: https://www.geogebra.org/m/yc7cbntn\n",
    "\n",
    "\n",
    "\n",
    "\n"
   ]
  },
  {
   "cell_type": "code",
   "execution_count": null,
   "metadata": {},
   "outputs": [],
   "source": []
  },
  {
   "cell_type": "markdown",
   "metadata": {},
   "source": [
    "---\n",
    "**Ejercicio 3.** Escribe una expresión para la función de membresía y los cortes alfa para un número difuso cuadrático $\\text{qfn}(\\bar x,\\beta_l,\\beta_r)$ en forma general. Utiliza este resultado para:\n",
    "\n",
    "1. Calcular los cortes alfa en forma intervalar del número $\\text{qfn}(\\bar x,\\beta_l,\\beta_r)$.\n",
    "2. Calcular la función de membresía del número $\\text{qfn}(\\bar x,\\beta_l,\\beta_r)$.\n",
    "3. Presenta un dibujo de $\\text{qfn}(1,-5,2)$."
   ]
  },
  {
   "cell_type": "markdown",
   "metadata": {},
   "source": [
    "Para un numero difuso cuadratico, la funcion de membresia $A(x)$ puede ser escrita como una funcion a trozos:\n",
    "\n",
    "$$A(x)=\\left\\{ \\begin{array}{ll}\n",
    "0   & \\text{ si } x \\leq \\overline x - \\beta_l \\\\ \n",
    "1 - (x - \\overline x)^2/\\beta_l^2  & \\text{ si } \\overline x - \\beta_l < x < \\overline x \\\\\n",
    "1 - (x - \\overline x)^2/\\beta_r^2   & \\text{ si } \\overline x \\leq x < \\overline x + \\beta_r\\\\\n",
    "0   & \\text{ si } x \\geq \\overline x + \\beta_r,\n",
    "\\end{array}\\right.\n",
    "$$\n",
    "\n",
    "\n",
    "Los cortes alfas se calculan:\n",
    "\n",
    "\n",
    "$$ \n",
    "1 - (x - \\overline x)^2/\\beta_l^2 = α \\\\\n",
    "(x - \\overline x)^2/\\beta_l^2 = 1 - α \\\\\n",
    "(x - \\overline x)^2 = \\beta_l^2(1 - α) \\\\\n",
    "|x - \\overline x| = \\sqrt {\\beta_l^2(1 - α)}\\\\\n",
    "x - \\overline x = \\pm \\sqrt {\\beta_l^2(1 - α)}\\\\\n",
    "x = \\pm \\sqrt {\\beta_l^2(1 - α)} + \\overline x\n",
    "$$\n",
    "\n",
    "Para el corte alfa izquierdo, se tomara $-\\sqrt {\\beta_l^2(1 - α)}$ pues se busca el extremo mas izquierdo del numero difuso\n",
    "\n",
    "$$ \n",
    "1 - (x - \\overline x)^2/\\beta_r^2 = α \\\\\n",
    "(x - \\overline x)^2/\\beta_r^2 = 1 - α \\\\\n",
    "(x - \\overline x)^2 = \\beta_r^2(1 - α) \\\\\n",
    "|x - \\overline x| = \\sqrt {\\beta_r^2(1 - α)}\\\\\n",
    "x - \\overline x = \\pm \\sqrt {\\beta_r^2(1 - α)}\\\\\n",
    "x = \\pm \\sqrt {\\beta_r^2(1 - α)} + \\overline x\n",
    "$$\n",
    "\n",
    "Para el corte alfa derecho, se tomara $\\sqrt {\\beta_r^2(1 - α)}$ pues se busca el extremo mas derecho del numero difuso\n",
    "\n",
    "Debido a que los parametros $\\beta$ deben ser positivos, para realizar el grafico se considerara el valor absoluto de los mismos, es decir: $\\text{qfn}(1,5,2)$.\n",
    "\n",
    "La funcion de membresia queda finalmente\n",
    "\n",
    "$$\\text{qfn}(1,5,2)=\\left\\{ \\begin{array}{ll}\n",
    "0   & \\text{ si } x \\leq -4 \\\\ \n",
    "1 - (x - 1)^2/25  & \\text{ si } -4 < x < 1 \\\\\n",
    "1 - (x - 1)^2/4   & \\text{ si } 1 \\leq x < 3\\\\\n",
    "0   & \\text{ si } x \\geq 3,\n",
    "\\end{array}\\right.\n",
    "$$\n",
    "\n",
    "Y sus cortes alfas son \n",
    "\n",
    "$ ^{𝛼}\\text{qfn}(1,5,2) = [-\\sqrt {\\beta_l^2(1 - α)} + \\overline x,\\sqrt {\\beta_r^2(1 - α)} + \\overline x]$\n",
    "\n",
    "$ ^{𝛼}\\text{qfn}(1,5,2) = [-\\sqrt {5(1 - α)} + 1,\\sqrt {2(1 - α)} + 1]$"
   ]
  },
  {
   "cell_type": "code",
   "execution_count": 14,
   "metadata": {},
   "outputs": [
    {
     "data": {
      "image/png": "[encoded data removed]",
      "text/plain": [
       "<Figure size 432x288 with 1 Axes>"
      ]
     },
     "metadata": {},
     "output_type": "display_data"
    }
   ],
   "source": [
    "%matplotlib inline\n",
    "import matplotlib.pyplot as plt\n",
    "plt.style.use('seaborn-whitegrid')\n",
    "import numpy as np\n",
    "\n",
    "fig = plt.figure()\n",
    "ax = plt.axes()\n",
    "\n",
    "x1 = np.linspace(-4, 1, 100)\n",
    "\n",
    "y1 = 1 - ((x1-1)**2)/25\n",
    "\n",
    "x2 = np.linspace(1, 3, 100)\n",
    "\n",
    "y2 = 1 - ((x2-1)**2)/4\n",
    "\n",
    "ax.plot(x1, y1,color='blue');\n",
    "\n",
    "ax.plot(x2, y2,color='blue');"
   ]
  },
  {
   "cell_type": "markdown",
   "metadata": {},
   "source": [
    "---\n",
    "**Ejercicio 4.** Para este ejercicio lee la definición de un número difuso L-R (Def.4.12, p.59) en el libro de texto de Bede (2013). Considera el número L-R dado por $L(x)=R(x)=x^2$. Sean $a_1^-=a_1^+=1$ y $\\underline{a}=1$, $\\overline{a}=2$, respectivamente.\n",
    "\n",
    "1. Escribe la función de membresía del número.\n",
    "2. Demuestra que sus cortes alfa están dados por $A_\\alpha=[\\sqrt r,3-2\\sqrt r]$.\n",
    "3. Grafica el número."
   ]
  },
  {
   "cell_type": "markdown",
   "metadata": {},
   "source": [
    "1.\n",
    "\n",
    "$\\underline{a}=a_1^- - a_0^-$\n",
    "\n",
    "$1 = a_1^- - a_0^-$\n",
    "\n",
    "$a_0^- = 1 - 1 $\n",
    "\n",
    "$a_0^- = 0 $\n",
    "\n",
    "\n",
    "$\\overline{a}=a_0^+ - a_1^+ $\n",
    "\n",
    "$2 =a_0^+ - 1 $\n",
    "\n",
    "$a_0^+ = 3 $\n",
    "\n",
    "La funcion de membresia A(x) puede escribirse como \n",
    "\n",
    "$$A(x)=\\left\\{ \\begin{array}{ll}\n",
    "0   & \\text{ si } x <  a_0^-\\\\ \n",
    "L(\\frac{x-a_0^-}{a_1^- - a_0^-})  & \\text{ si } a_0^- \\leq x < a_1^-\\\\\n",
    "1   & \\text{ si } a_1^- \\leq x <  a_1^+\\\\ \n",
    "R(\\frac{a_0^+ - x}{a_0^+ - a_1^+})  & \\text{ si } a_1^+ \\leq x < a_0^+\\\\\n",
    "0   & \\text{ si } a_0^+ \\leq x,\n",
    "\\end{array}\\right.\n",
    "$$\n",
    "\n",
    "Reemplazando los valores, se obtiene:\n",
    "\n",
    "$$A(x)=\\left\\{ \\begin{array}{ll}\n",
    "0   & \\text{ si } x <  0\\\\ \n",
    "(\\frac{x-0}{1 - 0})^2  & \\text{ si } 0 \\leq x < 1\\\\\n",
    "1   & \\text{ si } 1 \\leq x <  1\\\\ \n",
    "(\\frac{3 - x}{3 - 1})^2  & \\text{ si } 1 \\leq x < 3\\\\\n",
    "0   & \\text{ si } 3 \\leq x,\n",
    "\\end{array}\\right.\n",
    "$$\n",
    "\n",
    "Arreglando\n",
    "\n",
    "$$A(x)=\\left\\{ \\begin{array}{ll}\n",
    "0   & \\text{ si } x < 0\\\\ \n",
    "x^2  & \\text{ si } 0 \\leq x < 1\\\\ \n",
    "\\frac{(3 - x)^2}{4}  & \\text{ si } 1 \\leq x < 3\\\\\n",
    "0   & \\text{ si } 3 \\leq x,\n",
    "\\end{array}\\right.\n",
    "$$\n"
   ]
  },
  {
   "cell_type": "markdown",
   "metadata": {},
   "source": [
    "Los cortes alfas se calculan \n",
    "\n",
    "$$\n",
    "x^2 = α\\\\\n",
    "x = \\sqrt α\\\\\n",
    "$$\n",
    "\n",
    "$$\n",
    "\\frac{(3 - x)^2}{4} = α \\\\\n",
    "(3 - x)^2 = 4α \\\\\n",
    "3 - x = \\sqrt {4α} \\\\\n",
    "x = 3 - 2\\sqrt α\n",
    "$$\n",
    "\n",
    "$^{𝛼}A = [\\sqrt α,3 - 2\\sqrt α]$"
   ]
  },
  {
   "cell_type": "code",
   "execution_count": 3,
   "metadata": {},
   "outputs": [
    {
     "data": {
      "image/png": "[encoded data removed]",
      "text/plain": [
       "<Figure size 432x288 with 1 Axes>"
      ]
     },
     "metadata": {},
     "output_type": "display_data"
    }
   ],
   "source": [
    "%matplotlib inline\n",
    "import matplotlib.pyplot as plt\n",
    "plt.style.use('seaborn-whitegrid')\n",
    "import numpy as np\n",
    "\n",
    "fig = plt.figure()\n",
    "ax = plt.axes()\n",
    "\n",
    "x1 = np.linspace(0, 1, 100)\n",
    "\n",
    "y1 = x1**2\n",
    "\n",
    "x2 = np.linspace(1, 3, 100)\n",
    "\n",
    "y2 = (9-6*x2+x2**2)/4\n",
    "\n",
    "ax.plot(x1, y1,color='blue');\n",
    "\n",
    "ax.plot(x2, y2,color='blue');"
   ]
  },
  {
   "cell_type": "markdown",
   "metadata": {},
   "source": [
    "---\n",
    "**Ejercicio 5.** Para este ejercicio lee la definición de número difuso L-R (Def.4.12, p.59) en el libro de texto de Bede (2013). Demostrar que si $u$ es un número difuso L-R, entonces sus cortes alfa están dados por $u_\\alpha=[a_0^-+L^{-1}(\\alpha)\\underline{a}, a_0^+-R^{-1}(\\alpha)\\overline a]$."
   ]
  },
  {
   "cell_type": "markdown",
   "metadata": {},
   "source": [
    "Dado el numero difuso\n",
    "\n",
    "$$u(x)=\\left\\{ \\begin{array}{ll}\n",
    "0   & \\text{ si } x <  a_0^-\\\\ \n",
    "L(\\frac{x-a_0^-}{a_1^- - a_0^-})  & \\text{ si } a_0^- \\leq x < a_1^-\\\\\n",
    "1   & \\text{ si } a_1^- \\leq x <  a_1^+\\\\ \n",
    "R(\\frac{a_0^+ - x}{a_0^+ - a_1^+})  & \\text{ si } a_1^+ \\leq x < a_0^+\\\\\n",
    "0   & \\text{ si } a_0^+ \\leq x,\n",
    "\\end{array}\\right.\n",
    "$$\n",
    "\n",
    "Los cortes alfas se calculan:\n",
    "\n",
    "$$\n",
    "L(\\frac{x-a_0^-}{a_1^- - a_0^-}) = α\\\\\n",
    "\\frac{x-a_0^-}{a_1^- - a_0^-} = L^{-1}(α)\\\\\n",
    "\\frac{x-a_0^-}{\\underline a} = L^{-1}(α)\\\\\n",
    "x-a_0^- = L^{-1}(α)\\underline a\\\\\n",
    "x = a_0^- + L^{-1}(α)\\underline a \\\\\n",
    "$$\n",
    "\n",
    "$$\n",
    "R(\\frac{a_0^+ - x}{a_0^+ - a_1^+}) = α\\\\\n",
    "\\frac{a_0^+ - x}{a_0^+ - a_1^+} = R^{-1}(α)\\\\\n",
    "\\frac{a_0^+ - x}{\\overline a} = R^{-1}(α)\\\\\n",
    "a_0^+ - x = R^{-1}(α)\\overline a\\\\\n",
    "x = a_0^+ - R^{-1}(α)\\overline a \\\\\n",
    "$$\n",
    "\n",
    "$ ^{𝛼}u = [a_0^- + L^{-1}(α)\\underline a,a_0^+ - R^{-1}(α)\\overline a] $"
   ]
  },
  {
   "cell_type": "markdown",
   "metadata": {},
   "source": [
    "---\n",
    "**Ejercicio 6.** Sea $L(x)=R(x)=x^a$, con $a>0$. Escribe la función de membresía y los cortes alfa en forma intervalar de los números L-R basados en estas funciones."
   ]
  },
  {
   "cell_type": "markdown",
   "metadata": {},
   "source": [
    "Dado un numero L-R $u(x)$ por la funcion:\n",
    "\n",
    "$$u(x)=\\left\\{ \\begin{array}{ll}\n",
    "0   & \\text{ si } x <  a_0^-\\\\ \n",
    "L(\\frac{x-a_0^-}{a_1^- - a_0^-})  & \\text{ si } a_0^- \\leq x < a_1^-\\\\\n",
    "1   & \\text{ si } a_1^- \\leq x <  a_1^+\\\\ \n",
    "R(\\frac{a_0^+ - x}{a_0^+ - a_1^+})  & \\text{ si } a_1^+ \\leq x < a_0^+\\\\\n",
    "0   & \\text{ si } a_0^+ \\leq x,\n",
    "\\end{array}\\right.\n",
    "$$\n",
    "\n",
    "Reemplazando los valores se tiene:\n",
    "\n",
    "$$u(x)=\\left\\{ \\begin{array}{ll}\n",
    "0   & \\text{ si } x <  a_0^-\\\\ \n",
    "(\\frac{x-a_0^-}{a_1^- - a_0^-})^a  & \\text{ si } a_0^- \\leq x < a_1^-\\\\\n",
    "1   & \\text{ si } a_1^- \\leq x <  a_1^+\\\\ \n",
    "(\\frac{a_0^+ - x}{a_0^+ - a_1^+})^a  & \\text{ si } a_1^+ \\leq x < a_0^+\\\\\n",
    "0   & \\text{ si } a_0^+ \\leq x,\n",
    "\\end{array}\\right.\n",
    "$$\n",
    "\n",
    "Calculando los cortes alfas\n",
    "\n",
    "$$\n",
    "(\\frac{x-a_0^-}{a_1^- - a_0^-})^a = \\alpha \\\\\n",
    "\\frac{x-a_0^-}{a_1^- - a_0^-} = \\sqrt[a]{α}\\\\\n",
    "\\frac{x-a_0^-}{\\underline a} = \\sqrt[a]{α}\\\\\n",
    "x-a_0^- = \\underline a \\sqrt[a]{α}\\\\\n",
    "x = a_0^- + \\underline a \\sqrt[a]{α}\\\\\n",
    "$$\n",
    "\n",
    "$$\n",
    "(\\frac{a_0^+ - x}{a_0^+ - a_1^+})^a = α\\\\\n",
    "\\frac{a_0^+ - x}{a_0^+ - a_1^+} = \\sqrt[a]{α}\\\\\n",
    "\\frac{a_0^+ - x}{\\overline a} = \\sqrt[a]{α}\\\\\n",
    "a_0^+ - x = \\overline a \\sqrt[a]{α}\\\\\n",
    "x = a_0^+ - \\overline a \\sqrt[a]{α}\\\\\n",
    "$$\n",
    "\n",
    "$^{𝛼}u = [a_0^- + \\underline a \\sqrt[a]{α},a_0^+ - \\overline a \\sqrt[a]{α}]$"
   ]
  },
  {
   "cell_type": "markdown",
   "metadata": {},
   "source": [
    "---\n",
    "**Ejercicio 7.** Sea $u=\\text{trfn}(2,5,6,7)$ un número difuso trapezoidal y $v=\\text{tfn}(1,4,5)$ un número difuso triangular. Dibuja $u$ y $v$ y calcula la función de membresía de:\n",
    "\n",
    "1. $u+v$.\n",
    "2. $u-v$.\n",
    "3. $-2u+v$.\n",
    "4. $u-u$.\n",
    "5. $2v-v$.\n",
    "6. Dibuja cada resultado uno encima de otro, en una misma gráfica."
   ]
  },
  {
   "cell_type": "markdown",
   "metadata": {},
   "source": [
    " "
   ]
  },
  {
   "cell_type": "markdown",
   "metadata": {},
   "source": [
    "---\n",
    "**Ejercicio 8.** Demuestra las propiedades de abajo.\n",
    "\n",
    "1. Para cualquier número difuso $u$ y cualquier $a,b\\in \\mathbb{R}$, con $a\\cdot b\\geq 0$, se cumple $(a+b)\\cdot u=(a\\cdot u)+(b\\cdot u)$.\n",
    "2. Para cualquier $\\lambda\\in\\mathbb{R}$ y cualesquiera números difusos $u,v$, se cumple $\\lambda\\cdot (u+v)=\\lambda\\cdot u+\\lambda\\cdot v$.\n",
    "3. Para cualquier $\\lambda,\\mu\\in\\mathbb{R}$ y cualquier número difuso $u$, se cumple $(\\lambda\\cdot \\mu)\\cdot u=\\lambda\\cdot (\\mu\\cdot u)$."
   ]
  },
  {
   "cell_type": "markdown",
   "metadata": {},
   "source": []
  },
  {
   "cell_type": "markdown",
   "metadata": {},
   "source": [
    "---\n",
    "**Ejercicio 9.** Calcula el producto entre el número trapezoidal $u=\\text{trfn}(2, 5, 6, 8)$ y el número triangular $v=\\text{tfn}(1, 4, 5)$.\n",
    "\n",
    "1. Escribe la función de membresía o el intérvalo del corte alfa de $u\\cdot v$.\n",
    "2. Dibuja $u, v$ y su producto $u\\cdot v$ en una misma gráfica."
   ]
  },
  {
   "cell_type": "markdown",
   "metadata": {},
   "source": [
    "Un numero difuso trapezoidal tiene una funcion de membresia:\n",
    "\n",
    "$$u(x)=\\left\\{ \\begin{array}{ll}\n",
    "0   & \\text{ si } x < a\\\\ \n",
    "\\frac{x-a}{b-a}  & \\text{ si } a \\leq x < b \\\\\n",
    "1  & \\text{ si } b \\leq x < c\\\\\n",
    "\\frac{d-x}{d-c} & \\text{ si } c \\leq x < d \\\\\n",
    "0 & \\text{ si } x \\geq d,\n",
    "\\end{array}\\right.\n",
    "$$\n",
    "\n",
    "Los cortes alfas se calculan:\n",
    "\n",
    "$$ \n",
    "\\frac{x-a}{b-a} = 𝛼 \\\\\n",
    "x - a = 𝛼(b-a)\\\\\n",
    "x = 𝛼(b-a) + a\\\\\n",
    "$$\n",
    "\n",
    "$$ \n",
    "\\frac{d-x}{d-c} = 𝛼 \\\\\n",
    "d - x = 𝛼(d-c)\\\\\n",
    "x = d - 𝛼(d-c)\\\\\n",
    "$$\n",
    "\n",
    "$ ^{𝛼}u = [𝛼(b-a) + a,d - 𝛼(d-c)]$\n",
    "\n",
    "Para un numero difuso triangular $v=\\text{tfn}(a_1,b_1,c_1)$, sus cortes alfas pueden expresarse como:\n",
    "\n",
    "$ ^{𝛼}v = [(𝛼 - 1)b_1 + a_1,(1 - 𝛼)c_1 + a_1] $\n",
    "\n",
    "Reemplazando los valores, se obtiene\n",
    "\n",
    "$ ^{𝛼}u = [3𝛼 + 2,8 - 2𝛼]$\n",
    "\n",
    "$ ^{𝛼}v = [4𝛼 - 3,6 - 5𝛼]$\n",
    "\n",
    "Para la multiplicacion $u\\cdot v$, se utiliza la multiplicacion de intervalos:\n",
    "\n",
    "$^{𝛼}(u\\cdot v) = [min(u^- \\cdot v^-, u^- \\cdot v^+, u^+ \\cdot v^-, u^+ \\cdot v^+), max(u^- \\cdot v^-, u^- \\cdot v^+, u^+ \\cdot v^-, u^+ \\cdot v^+)] $\n",
    "\n",
    "Como en el numero difuso triangular $a \\leq b \\leq c$ y en el numero difuso trapezoidal $a \\leq b \\leq c \\leq d$, los cortes alfas se resumen en:\n",
    "\n",
    "$^{𝛼}(u\\cdot v) = [u^- \\cdot v^-,u^+ \\cdot v^+] $\n",
    "\n",
    "$^{𝛼}(u\\cdot v) = [(3𝛼 + 2)(4𝛼 - 3),(8 - 2𝛼)(6 - 5𝛼)] $\n",
    "\n",
    "$^{𝛼}(u\\cdot v) = [12 𝛼^2 - 𝛼 - 6,10 𝛼^2 - 52𝛼 + 48] $\n",
    "\n",
    "Obs: Calculos auxiliares realizados en Geogebra -> https://www.geogebra.org/calculator/hs2pyazk\n",
    "\n",
    "Haciendo $ x = 12 𝛼^2 - 𝛼 - 6$ se obtiene\n",
    "\n",
    "$ 𝛼 = \\frac{1\\pm\\sqrt{ 48x + 289}}{24} $\n",
    "\n",
    "Si a esta funcion hacemos $ 𝛼 = 0 $, obtendremos que $ x = -6 $, este es nuestro punto mas a la izquierda del numero difuso\n",
    "\n",
    "Si a esta funcion hacemos $ 𝛼 = 1 $, obtendremos que $ x = 5 $, en este punto comienza el core del numero difuso\n",
    "\n",
    "Haciendo $ x = 10 𝛼^2 - 52𝛼 + 48$ y omitiendo $ 𝛼 > 1$ se obtiene\n",
    "\n",
    "$ 𝛼 = \\frac{52-\\sqrt{ 40x + 784}}{20} $\n",
    "\n",
    "Si a esta funcion hacemos $ 𝛼 = 0 $, obtendremos que $ x = 48 $, este es nuestro punto mas a la derecha del numero difuso\n",
    "\n",
    "Si a esta funcion hacemos $ 𝛼 = 1 $, obtendremos que $ x = 6 $, en este punto finaliza el core del numero difuso\n",
    "\n",
    "Finalmente la funcion de membresia queda de la siguiente manera\n",
    "\n",
    "$$u\\cdot v=\\left\\{ \\begin{array}{ll}\n",
    "0   & \\text{ si } x < -6\\\\ \n",
    "\\frac{1+\\sqrt{ 48x + 289}}{24}  & \\text{ si } -6 \\leq x < 5 \\\\\n",
    "1  & \\text{ si } 5 \\leq x \\leq 6\\\\\n",
    "\\frac{52-\\sqrt{ 40x + 784}}{20} & \\text{ si } 6 < x \\leq 48 \\\\\n",
    "0 & \\text{ si } x > 48,\n",
    "\\end{array}\\right.\n",
    "$$\n"
   ]
  },
  {
   "cell_type": "code",
   "execution_count": 28,
   "metadata": {},
   "outputs": [
    {
     "data": {
      "image/png": "[encoded data removed]",
      "text/plain": [
       "<Figure size 432x288 with 1 Axes>"
      ]
     },
     "metadata": {},
     "output_type": "display_data"
    }
   ],
   "source": [
    "%matplotlib inline\n",
    "import matplotlib.pyplot as plt\n",
    "plt.style.use('seaborn-whitegrid')\n",
    "import numpy as np\n",
    "\n",
    "fig = plt.figure()\n",
    "ax = plt.axes()\n",
    "\n",
    "x1 = np.linspace(-6, 5, 80)\n",
    "\n",
    "y1 = (1+np.sqrt(48*x1+289))/24\n",
    "\n",
    "x2 = np.linspace(6, 48, 100)\n",
    "\n",
    "y2 = (52-np.sqrt(40*x2+784))/20\n",
    "\n",
    "x3 = [5,6]\n",
    "\n",
    "y3 = [1,1]\n",
    "\n",
    "x4 = [-8,-6]\n",
    "\n",
    "y4 = [0,0]\n",
    "\n",
    "xaux = np.linspace(-6, -289/48, 80)\n",
    "\n",
    "yaux = (1-np.sqrt(48*xaux+289))/24\n",
    "\n",
    "ax.plot(x1, y1,color='blue');\n",
    "\n",
    "ax.plot(x2, y2,color='blue');\n",
    "\n",
    "ax.plot(x3, y3,color='blue');\n",
    "\n",
    "ax.plot(xaux,yaux,color='blue')\n",
    "\n",
    "ax.plot(x4, y4,color='blue',label='u x v');\n",
    "\n",
    "\n",
    "x5 = [1,2,5,6,8,9]\n",
    "\n",
    "y5 = [0,0,1,1,0,0]\n",
    "\n",
    "ax.plot(x5, y5,color='green',label='u');\n",
    "\n",
    "x6 = [-4,-3,1,6,7]\n",
    "\n",
    "y6 = [0,0,1,0,0]\n",
    "\n",
    "ax.plot(x6, y6,color='red',label='v');\n",
    "\n",
    "leg = plt.legend()\n"
   ]
  },
  {
   "cell_type": "markdown",
   "metadata": {},
   "source": [
    "---\n",
    "**Ejercicio 10.** Escribe una expresión para los cortes alfa del producto de dos números difusos triangulares $u=\\text{tfn}(a_1,b_1,c_1)$ y $v=\\text{tfn}(a_2,b_2,c_2)$. Escribe la familia de cortes alfa en forma intervalar de $u\\cdot v$."
   ]
  },
  {
   "cell_type": "markdown",
   "metadata": {},
   "source": [
    "Para un numero difuso triangular, la funcion de membresia $A(x)$ puede ser escrita como una funcion a trozos:\n",
    "\n",
    "$$A(x)=\\left\\{ \\begin{array}{ll}\n",
    "0   & \\text{ si } x \\leq \\overline x - e_1\\\\ \n",
    "1 + (x - \\overline x)/e_1  & \\text{ si } \\overline x - e_1 < x < \\overline x \\\\\n",
    "1 - (x - \\overline x)/e_2  & \\text{ si } \\overline x \\leq x < \\overline x + e_2\\\\\n",
    "0   & \\text{ si } x \\geq \\overline x + e_2,\n",
    "\\end{array}\\right.\n",
    "$$\n",
    "\n",
    "Para obtener los cortes alfa, se buscan las funciones inversas de x\n",
    "\n",
    "$$\n",
    "1 + (x - \\overline x)/e_1 = 𝛼\\\\\n",
    "x = (𝛼 - 1)e_1 + \\overline x\\\\\n",
    "x = (1 - 𝛼)e_2 + \\overline x\n",
    "$$\n",
    "\n",
    "Para este caso, los cortes alfa de $u$ y de $v$ estaran dados por:\n",
    "\n",
    "$ ^{𝛼}u = [(𝛼 - 1)b_1 + a_1,(1 - 𝛼)c_1 + a_1] $ \n",
    "\n",
    "$ ^{𝛼}v = [(𝛼 - 1)b_2 + a_2,(1 - 𝛼)c_2 + a_2] $\n",
    "\n",
    "El producto $u\\cdot v$ estara dado por la multiplicacion de intervalos\n",
    "\n",
    "\n",
    "$^{𝛼}(u\\cdot v) = [min(u^- \\cdot v^-, u^- \\cdot v^+, u^+ \\cdot v^-, u^+ \\cdot v^+), max(u^- \\cdot v^-, u^- \\cdot v^+, u^+ \\cdot v^-, u^+ \\cdot v^+)] $\n",
    "\n",
    "Suponiendo $a_1 \\leq b_1 \\leq c_1$ y $a_2 \\leq b_2 \\leq c_2$\n",
    "\n",
    "$^{𝛼}(u\\cdot v) = [u^- \\cdot v^-,u^+ \\cdot v^+] $\n",
    "\n",
    "$^{𝛼}(u\\cdot v) = [((𝛼 - 1)b_1 + a_1)((𝛼 - 1)b_2 + a_2),((1 - 𝛼)c_1 + a_1)((1 - 𝛼)c_2 + a_2)] $"
   ]
  }
 ],
 "metadata": {
  "kernelspec": {
   "display_name": "Python 3",
   "language": "python",
   "name": "python3"
  },
  "language_info": {
   "codemirror_mode": {
    "name": "ipython",
    "version": 3
   },
   "file_extension": ".py",
   "mimetype": "text/x-python",
   "name": "python",
   "nbconvert_exporter": "python",
   "pygments_lexer": "ipython3",
   "version": "3.8.8"
  }
 },
 "nbformat": 4,
 "nbformat_minor": 4
}
